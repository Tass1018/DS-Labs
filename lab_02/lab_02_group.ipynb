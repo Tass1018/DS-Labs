{
 "cells": [
  {
   "cell_type": "markdown",
   "metadata": {},
   "source": [
    "# STAT 207 Lab Assignment 2 - Group Part - [5 total points]\n",
    "\n",
    "## Steam Game Play Comparision"
   ]
  },
  {
   "cell_type": "markdown",
   "metadata": {},
   "source": [
    "Due: Tuesday, September 7, 11:59pm CST\n",
    "\n",
    "<hr>\n"
   ]
  },
  {
   "cell_type": "markdown",
   "metadata": {},
   "source": [
    "## <u>Case Study</u>: Steam Game Play Comparison\n",
    "Steam is the world's most popular PC Gaming hub. With a massive collection that includes everything from AAA blockbusters to small indie titles, great discovery tools can be super valuable for Steam. What can we learn about Steam gaming behavior?\n",
    "\n",
    "The dataset we will be analyzing is comprised of a random sample of 500 steam users and their game play and purchase behaviors. It has the following columns:\n",
    "* user_id\n",
    "* game_name,\n",
    "* activity:\n",
    "    - purchase: indicating that the user has *purchased* the corresponding game\n",
    "    - play: indicating that the user has *played* the corresponding game (for at least some amount of time.) \n",
    "* hours_played_if_play:\n",
    "    - if the row corresponds to a 'play' activity, this number represents the number of hours the user has played the game\n",
    "    - if the row corresponds to a 'purchase' activity, this number is always a 1 (and means nothing... it's a placeholder).\n",
    "\n",
    "<hr>"
   ]
  },
  {
   "cell_type": "markdown",
   "metadata": {},
   "source": [
    "### <u>Research Question</u> [4.75 pt]\n",
    "\n",
    "Select two games of your choosing in this dataset. \n",
    "\n",
    "1. Plot two histograms, one for the number of hours played for each of these two games.\n",
    "2. Describe and compare the shapes of these histograms.\n",
    "3. Calculate and compare the measures of center for the number of hours played for each of these two games. Explain why you chose these particular measures of center to use.\n",
    "4. Calculate and compare the measures of spread for the number of hours played for each of these two games. Explain why you chose these particular measures of spread to use.\n",
    "\n",
    "\n",
    "**<u>Note</u>: You will have to clean the dataframe just you like did in individual part of the assignment. #1-#5 in the individual assignment can be useful in completing this group assignment.**"
   ]
  },
  {
   "cell_type": "markdown",
   "metadata": {},
   "source": [
    "### Imports"
   ]
  },
  {
   "cell_type": "code",
   "execution_count": 42,
   "metadata": {},
   "outputs": [],
   "source": [
    "import pandas as pd\n",
    "import numpy as np\n",
    "import matplotlib.pyplot as plt\n",
    "import seaborn as sns; sns.set()"
   ]
  },
  {
   "cell_type": "code",
   "execution_count": 43,
   "metadata": {},
   "outputs": [
    {
     "data": {
      "text/html": [
       "<div>\n",
       "<style scoped>\n",
       "    .dataframe tbody tr th:only-of-type {\n",
       "        vertical-align: middle;\n",
       "    }\n",
       "\n",
       "    .dataframe tbody tr th {\n",
       "        vertical-align: top;\n",
       "    }\n",
       "\n",
       "    .dataframe thead th {\n",
       "        text-align: right;\n",
       "    }\n",
       "</style>\n",
       "<table border=\"1\" class=\"dataframe\">\n",
       "  <thead>\n",
       "    <tr style=\"text-align: right;\">\n",
       "      <th></th>\n",
       "      <th>user_id</th>\n",
       "      <th>game_name</th>\n",
       "      <th>activity</th>\n",
       "      <th>hours_played_if_play</th>\n",
       "    </tr>\n",
       "  </thead>\n",
       "  <tbody>\n",
       "    <tr>\n",
       "      <th>0</th>\n",
       "      <td>308653033</td>\n",
       "      <td>Unturned</td>\n",
       "      <td>purchase</td>\n",
       "      <td>1</td>\n",
       "    </tr>\n",
       "    <tr>\n",
       "      <th>1</th>\n",
       "      <td>308653033</td>\n",
       "      <td>Unturned</td>\n",
       "      <td>play</td>\n",
       "      <td>0.6</td>\n",
       "    </tr>\n",
       "    <tr>\n",
       "      <th>2</th>\n",
       "      <td>308653033</td>\n",
       "      <td>theHunter</td>\n",
       "      <td>purchase</td>\n",
       "      <td>1</td>\n",
       "    </tr>\n",
       "    <tr>\n",
       "      <th>3</th>\n",
       "      <td>144004384</td>\n",
       "      <td>Dota 2</td>\n",
       "      <td>purchase</td>\n",
       "      <td>1</td>\n",
       "    </tr>\n",
       "    <tr>\n",
       "      <th>4</th>\n",
       "      <td>144004384</td>\n",
       "      <td>Dota 2</td>\n",
       "      <td>play</td>\n",
       "      <td>22</td>\n",
       "    </tr>\n",
       "  </tbody>\n",
       "</table>\n",
       "</div>"
      ],
      "text/plain": [
       "     user_id  game_name  activity hours_played_if_play\n",
       "0  308653033   Unturned  purchase                    1\n",
       "1  308653033   Unturned      play                  0.6\n",
       "2  308653033  theHunter  purchase                    1\n",
       "3  144004384     Dota 2  purchase                    1\n",
       "4  144004384     Dota 2      play                   22"
      ]
     },
     "execution_count": 43,
     "metadata": {},
     "output_type": "execute_result"
    }
   ],
   "source": [
    "df=pd.read_csv('steam_sample.csv')\n",
    "df.head()"
   ]
  },
  {
   "cell_type": "code",
   "execution_count": 44,
   "metadata": {},
   "outputs": [
    {
     "data": {
      "text/plain": [
       "array(['1', '0.6', '22', '1028', '1008', '148', '108', '72', '36', '35',\n",
       "       '32', '21', '16', '15.8', '8.6', '7.8', '7.3', '3.1', '1.9', '1.7',\n",
       "       '1.1', '0.4', '153', '63', '26', '1.4', '639', '479', '70', '65',\n",
       "       '33', '30', '19.8', '16.2', '11.3', '4.2', '3.9', '2.3', '0.8',\n",
       "       '0.7', '0.5', '0.3', '396', '227', '13.4', '12.6', '11.2', '10.1',\n",
       "       '2.4', '210', '1.2', '0.2', '13.2', '48', '110', '0.1', '67',\n",
       "       '429', '5.5', '61', '1.6', '18.3', '9.9', '4.7', '1714', '441',\n",
       "       '197', '147', '117', '86', '73', '49', '46', '31', '24', '20',\n",
       "       '19.7', '18.2', '14.2', '11.6', '9.8', '9.7', '8.4', '6.5', '4.8',\n",
       "       '4.1', '3.7', '2.9', '2.7', '2.1', '222', 'unknown', '14.9',\n",
       "       '14.1', '83', '11.1', '3.2', '6.9', '395', '251', '9.3', '7.4',\n",
       "       '54', '34', '1.8', '99', '98', '96', '29', '27', '23', '19.1',\n",
       "       '18.7', '17.5', '17', '16.6', '14.7', '13.3', '10.7', '10.2', '10',\n",
       "       '9.6', '9.5', '8', '7.9', '7.6', '7', '6.6', '6', '5.8', '5.6',\n",
       "       '5.3', '4.4', '4.3', '3.3', '3', '2.6', '2.5', '0.9', '6.2',\n",
       "       '18.9', '2.8', '4814', '4', '494', '1.3', '184', '13.8', '11.4',\n",
       "       '8.9', '6.7', '496', '1086', '525', '370', '270', '151', '85',\n",
       "       '66', '56', '15.3', '15.1', '11.5', '7.2', '3.8', '19.6', '2',\n",
       "       '274', '7.1', '4.9', '4.6', '3.6', '12.1', '103', '13.1', '60',\n",
       "       '3309', '524', '431', '428', '262', '250', '180', '154', '137',\n",
       "       '106', '100', '80', '68', '62', '50', '47', '44', '38', '37',\n",
       "       '13.5', '12', '11.9', '11', '9', '8.2', '8.1', '7.5', '6.8', '5.1',\n",
       "       '5', '2.2', '1.5', '57', '964', '41', '12.5', '10.4', '361', '88',\n",
       "       '82', '17.6', '17.1', '16.3', '15.2', '14.6', '11.7', '8.8', '8.3',\n",
       "       '5.9', '717', '303', '13.9', '10.6', '2179', '526', '28', '14.5',\n",
       "       '12.4', '149', '10.8', '15', '19.9', '113', '76', '646', '25',\n",
       "       '14', '546', '11.8', '381', '16.1', '215', '81', '19.5', '248',\n",
       "       '59', '42', '13.7', '3626', '997', '665', '622', '522', '344',\n",
       "       '224', '213', '208', '186', '95', '79', '78', '40', '18.1', '18',\n",
       "       '17.8', '17.4', '15.9', '15.5', '14.8', '12.3', '3.5', '3.4',\n",
       "       '116', '6.1', '393', '332', '238', '307', '157', '550', '52',\n",
       "       '9.2', '1343', '13.6', '8.5', '15.7', '202', '530', '43', '6.3',\n",
       "       '518', '232', '175', '58', '90', '15.4', '14.4', '193', '173',\n",
       "       '12.2', '1339', '190', '121', '7.7', '4.5', '249', '77', '399',\n",
       "       '278', '91', '6.4', '162', '89', '17.2', '9.1', '652', '517',\n",
       "       '125', '105', '75', '55', '17.9', '10.9', '8.7', '10.3', '5.7',\n",
       "       '5.4', '10.5', '118', '9.4', '284', '71', '19.3', '209', '5.2',\n",
       "       '1605', '1540', '710', '617', '312', '644', '189', '191', '176',\n",
       "       '136', '115', '39', '19', '69', '1912', '777', '686', '15.6',\n",
       "       '18.4', '539', '1760', '165', '17.3', '112', '386', '720', '466',\n",
       "       '124', '109', '87', '14.3', '676', '449', '236', '119', '53', '45',\n",
       "       '3178', '1302', '795', '174', '123', '104', '101', '64', '51',\n",
       "       '16.9', '16.8', '16.5', '1030', '145', '214', '11754', '144',\n",
       "       '579', '263', '241', '160', '141', '120', '92', '13', '289',\n",
       "       '1337', '17.7', '2258', '217', '135', '389', '228', '187', '111',\n",
       "       '357', '923', '172', '1369', '1049', '488', '130', '126', '93',\n",
       "       '18.8', '1064', '18.5', '12.9', '458', '418', '194', '272', '16.4',\n",
       "       '419', '107', '290', '1499', '891', '693', '302', '273', '264',\n",
       "       '158', '133', '1301', '485', '1754', '231', '12.8', '132', '733',\n",
       "       '230', '127', '627', '994', '387', '487', '528', '138', '809',\n",
       "       '511', '2055', '402', '451', '170', '527', '206', '164', '207',\n",
       "       '196', '143', '1295', '520', '364', '1704'], dtype=object)"
      ]
     },
     "execution_count": 44,
     "metadata": {},
     "output_type": "execute_result"
    }
   ],
   "source": [
    "df['hours_played_if_play'].unique()"
   ]
  },
  {
   "cell_type": "code",
   "execution_count": 45,
   "metadata": {},
   "outputs": [
    {
     "data": {
      "text/plain": [
       "user_id                   int64\n",
       "game_name                object\n",
       "activity                 object\n",
       "hours_played_if_play    float64\n",
       "dtype: object"
      ]
     },
     "execution_count": 45,
     "metadata": {},
     "output_type": "execute_result"
    }
   ],
   "source": [
    "missing_values = [\"unknown\"]\n",
    "df = pd.read_csv('steam_sample.csv', na_values=missing_values)\n",
    "df.dtypes"
   ]
  },
  {
   "cell_type": "code",
   "execution_count": 46,
   "metadata": {},
   "outputs": [],
   "source": [
    "df_play=df[df['activity']=='play']"
   ]
  },
  {
   "cell_type": "code",
   "execution_count": 52,
   "metadata": {},
   "outputs": [
    {
     "data": {
      "text/plain": [
       "Text(0, 0.5, 'frequency')"
      ]
     },
     "execution_count": 52,
     "metadata": {},
     "output_type": "execute_result"
    },
    {
     "data": {
      "image/png": "[encoded data removed]",
      "text/plain": [
       "<Figure size 432x288 with 1 Axes>"
      ]
     },
     "metadata": {},
     "output_type": "display_data"
    }
   ],
   "source": [
    "hunter = df_play[df_play['game_name']=='theHunter']['hours_played_if_play']\n",
    "hunter.hist()\n",
    "plt.title('theHunter')\n",
    "plt.xlabel('number of hours')\n",
    "plt.ylabel('frequency')"
   ]
  },
  {
   "cell_type": "code",
   "execution_count": 57,
   "metadata": {},
   "outputs": [
    {
     "data": {
      "text/plain": [
       "Text(0, 0.5, 'frequency')"
      ]
     },
     "execution_count": 57,
     "metadata": {},
     "output_type": "execute_result"
    },
    {
     "data": {
      "image/png": "[encoded data removed]",
      "text/plain": [
       "<Figure size 432x288 with 1 Axes>"
      ]
     },
     "metadata": {},
     "output_type": "display_data"
    }
   ],
   "source": [
    "unturned = df_play[df_play['game_name']=='Unturned']['hours_played_if_play']\n",
    "unturned.hist()\n",
    "plt.title('unturned')\n",
    "plt.xlabel('number of hours')\n",
    "plt.ylabel('frequency')"
   ]
  },
  {
   "cell_type": "markdown",
   "metadata": {},
   "source": [
    "# Describe and compare the shapes of these histograms.\n",
    "Both of the graphs is right-skewed, the median is closer to the center."
   ]
  },
  {
   "cell_type": "code",
   "execution_count": 55,
   "metadata": {},
   "outputs": [
    {
     "data": {
      "text/plain": [
       "0.9"
      ]
     },
     "execution_count": 55,
     "metadata": {},
     "output_type": "execute_result"
    }
   ],
   "source": [
    "#Calculate and compare the measures of center for the number of hours played for each of these two games. Explain why you chose these particular measures of center to use.\n",
    "hunter.median()\n"
   ]
  },
  {
   "cell_type": "code",
   "execution_count": 56,
   "metadata": {},
   "outputs": [
    {
     "data": {
      "text/plain": [
       "2.1999999999999997"
      ]
     },
     "execution_count": 56,
     "metadata": {},
     "output_type": "execute_result"
    }
   ],
   "source": [
    "hunter.mean()"
   ]
  },
  {
   "cell_type": "code",
   "execution_count": 58,
   "metadata": {},
   "outputs": [
    {
     "data": {
      "text/plain": [
       "4.5"
      ]
     },
     "execution_count": 58,
     "metadata": {},
     "output_type": "execute_result"
    }
   ],
   "source": [
    "unturned.median()"
   ]
  },
  {
   "cell_type": "code",
   "execution_count": 59,
   "metadata": {},
   "outputs": [
    {
     "data": {
      "text/plain": [
       "13.64883720930233"
      ]
     },
     "execution_count": 59,
     "metadata": {},
     "output_type": "execute_result"
    }
   ],
   "source": [
    "unturned.mean()"
   ]
  },
  {
   "cell_type": "markdown",
   "metadata": {},
   "source": [
    "From the calculations, the median is closer to the center than the mean value."
   ]
  },
  {
   "cell_type": "markdown",
   "metadata": {},
   "source": [
    "# Calculate and compare the measures of spread for the number of hours played for each of these two games. Explain why you chose these particular measures of spread to use."
   ]
  },
  {
   "cell_type": "code",
   "execution_count": 64,
   "metadata": {},
   "outputs": [
    {
     "name": "stdout",
     "output_type": "stream",
     "text": [
      "First quartile (Q1) = 0.7249999999999999\n",
      "Third quartile (Q3) = 1.6\n"
     ]
    },
    {
     "data": {
      "text/plain": [
       "0.8750000000000002"
      ]
     },
     "execution_count": 64,
     "metadata": {},
     "output_type": "execute_result"
    }
   ],
   "source": [
    "print(\"First quartile (Q1) =\", hunter.quantile(q=0.25))\n",
    "print(\"Third quartile (Q3) =\", hunter.quantile(q=0.75))\n",
    "1.6 - 0.7249999999999999"
   ]
  },
  {
   "cell_type": "code",
   "execution_count": 66,
   "metadata": {},
   "outputs": [
    {
     "name": "stdout",
     "output_type": "stream",
     "text": [
      "First quartile (Q1) = 1.6500000000000001\n",
      "Third quartile (Q3) = 18.950000000000003\n"
     ]
    },
    {
     "data": {
      "text/plain": [
       "17.300000000000004"
      ]
     },
     "execution_count": 66,
     "metadata": {},
     "output_type": "execute_result"
    }
   ],
   "source": [
    "print(\"First quartile (Q1) =\", unturned.quantile(q=0.25))\n",
    "print(\"Third quartile (Q3) =\", unturned.quantile(q=0.75))\n",
    "18.950000000000003-1.6500000000000001"
   ]
  },
  {
   "cell_type": "markdown",
   "metadata": {},
   "source": [
    "The interquartile range for hunter is 0.8750000000000002.\n",
    "The interquartile range for unturned is 17.300000000000004."
   ]
  },
  {
   "cell_type": "markdown",
   "metadata": {},
   "source": [
    "The middle half of the data for hunter is closer to the one for the unturned. "
   ]
  },
  {
   "cell_type": "code",
   "execution_count": null,
   "metadata": {},
   "outputs": [],
   "source": []
  },
  {
   "cell_type": "code",
   "execution_count": null,
   "metadata": {},
   "outputs": [],
   "source": []
  },
  {
   "cell_type": "code",
   "execution_count": null,
   "metadata": {},
   "outputs": [],
   "source": []
  },
  {
   "cell_type": "markdown",
   "metadata": {},
   "source": [
    "### Contribution Report [0.25 pt]\n",
    "These contribution reports should be included in all group lab assignments. In this contribution report below you should list of the following:\n",
    "1. Names of each team member.\n",
    "2. Contributions of each team member to report.\n",
    "\n",
    "*For example:*\n",
    "\n",
    "*<u>Teammates:</u>*\n",
    "\n",
    "*1. John Smith: did number 1,2 and 3*\n",
    "\n",
    "*2. Jane Doe: did number 4, and 5*"
   ]
  },
  {
   "cell_type": "markdown",
   "metadata": {},
   "source": [
    "**insert here**\n",
    "1. Donlapun Wongkarnta  1-4\n",
    "2. Yunfan Hu 1-4"
   ]
  },
  {
   "cell_type": "code",
   "execution_count": null,
   "metadata": {},
   "outputs": [],
   "source": []
  }
 ],
 "metadata": {
  "kernelspec": {
   "display_name": "Python 3",
   "language": "python",
   "name": "python3"
  },
  "language_info": {
   "codemirror_mode": {
    "name": "ipython",
    "version": 3
   },
   "file_extension": ".py",
   "mimetype": "text/x-python",
   "name": "python",
   "nbconvert_exporter": "python",
   "pygments_lexer": "ipython3",
   "version": "3.8.5"
  }
 },
 "nbformat": 4,
 "nbformat_minor": 2
}
