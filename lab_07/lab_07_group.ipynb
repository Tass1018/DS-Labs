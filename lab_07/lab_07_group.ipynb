{
 "cells": [
  {
   "cell_type": "markdown",
   "metadata": {},
   "source": [
    "# STAT 207 Lab 7 - Group Part - [5 total points] - Solutions\n",
    "\n",
    "## Inference for Associations"
   ]
  },
  {
   "cell_type": "markdown",
   "metadata": {},
   "source": [
    "Due: Tuesday, October 12, 11:59pm CST\n",
    "\n",
    "## <u>Case Study</u>: Fake and Real Instagram Associations with Other Numerical Variables\n",
    "\n",
    "In this group assignment, we will explore whether a relationship exists between an Instagram account's status (ie. fake vs. real) and some other *numerical variable* that we were given in the **fake_insta.csv** dataset. You can choose which numerical variable you find most interesting. \n",
    "\n",
    "For instance, one research question we could ask is: \"is there an association between the **account status** and the **number of posts that an account makes**?\"\n",
    "\n",
    "We will assume that the data in this csv file contains two random samples of fake and real Instagram accounts drawn from the greater populations of ALL fake Instagram account and ALL real Instagram accounts, respectively. \n",
    "\n",
    "\n",
    "### <u>Research Questions</u>:\n",
    "1. First, we would like to explore the relationship between these two variables *for accounts just in this dataset*.\n",
    "\n",
    "2. Then, we would like to explore the relationship between these two variables *for ALL Fake and Real Instagram accounts*."
   ]
  },
  {
   "cell_type": "code",
   "execution_count": 4,
   "metadata": {},
   "outputs": [],
   "source": [
    "from scipy.stats import t\n",
    "import pandas as pd\n",
    "import matplotlib.pyplot as plt\n",
    "import seaborn as sns; sns.set()\n",
    "import random\n",
    "from scipy.stats import norm\n",
    "from statistics import mean\n"
   ]
  },
  {
   "cell_type": "markdown",
   "metadata": {},
   "source": [
    "### 1. [0.5 pts] Association in the Dataset\n",
    "\n",
    "First, read fake_insta.csv into a dataframe. Then visualize the relationship between the **account_type** variable and the **numerical variable** that you have chosen."
   ]
  },
  {
   "cell_type": "code",
   "execution_count": 2,
   "metadata": {},
   "outputs": [],
   "source": [
    "df = pd.read_csv('fake_insta.csv')"
   ]
  },
  {
   "cell_type": "code",
   "execution_count": 3,
   "metadata": {},
   "outputs": [
    {
     "data": {
      "text/html": [
       "<div>\n",
       "<style scoped>\n",
       "    .dataframe tbody tr th:only-of-type {\n",
       "        vertical-align: middle;\n",
       "    }\n",
       "\n",
       "    .dataframe tbody tr th {\n",
       "        vertical-align: top;\n",
       "    }\n",
       "\n",
       "    .dataframe thead th {\n",
       "        text-align: right;\n",
       "    }\n",
       "</style>\n",
       "<table border=\"1\" class=\"dataframe\">\n",
       "  <thead>\n",
       "    <tr style=\"text-align: right;\">\n",
       "      <th></th>\n",
       "      <th>has_a_profile_pic</th>\n",
       "      <th>number_of_words_in_name</th>\n",
       "      <th>num_characters_in_bio</th>\n",
       "      <th>number_of_posts</th>\n",
       "      <th>number_of_followers</th>\n",
       "      <th>number_of_follows</th>\n",
       "      <th>account_type</th>\n",
       "    </tr>\n",
       "  </thead>\n",
       "  <tbody>\n",
       "    <tr>\n",
       "      <th>0</th>\n",
       "      <td>yes</td>\n",
       "      <td>1</td>\n",
       "      <td>30</td>\n",
       "      <td>35</td>\n",
       "      <td>488</td>\n",
       "      <td>604</td>\n",
       "      <td>real</td>\n",
       "    </tr>\n",
       "    <tr>\n",
       "      <th>1</th>\n",
       "      <td>yes</td>\n",
       "      <td>5</td>\n",
       "      <td>64</td>\n",
       "      <td>3</td>\n",
       "      <td>35</td>\n",
       "      <td>6</td>\n",
       "      <td>real</td>\n",
       "    </tr>\n",
       "    <tr>\n",
       "      <th>2</th>\n",
       "      <td>yes</td>\n",
       "      <td>2</td>\n",
       "      <td>82</td>\n",
       "      <td>319</td>\n",
       "      <td>328</td>\n",
       "      <td>668</td>\n",
       "      <td>real</td>\n",
       "    </tr>\n",
       "    <tr>\n",
       "      <th>3</th>\n",
       "      <td>yes</td>\n",
       "      <td>1</td>\n",
       "      <td>143</td>\n",
       "      <td>273</td>\n",
       "      <td>14890</td>\n",
       "      <td>7369</td>\n",
       "      <td>real</td>\n",
       "    </tr>\n",
       "    <tr>\n",
       "      <th>4</th>\n",
       "      <td>yes</td>\n",
       "      <td>1</td>\n",
       "      <td>76</td>\n",
       "      <td>6</td>\n",
       "      <td>225</td>\n",
       "      <td>356</td>\n",
       "      <td>real</td>\n",
       "    </tr>\n",
       "    <tr>\n",
       "      <th>...</th>\n",
       "      <td>...</td>\n",
       "      <td>...</td>\n",
       "      <td>...</td>\n",
       "      <td>...</td>\n",
       "      <td>...</td>\n",
       "      <td>...</td>\n",
       "      <td>...</td>\n",
       "    </tr>\n",
       "    <tr>\n",
       "      <th>115</th>\n",
       "      <td>yes</td>\n",
       "      <td>1</td>\n",
       "      <td>0</td>\n",
       "      <td>13</td>\n",
       "      <td>114</td>\n",
       "      <td>811</td>\n",
       "      <td>fake</td>\n",
       "    </tr>\n",
       "    <tr>\n",
       "      <th>116</th>\n",
       "      <td>yes</td>\n",
       "      <td>1</td>\n",
       "      <td>0</td>\n",
       "      <td>4</td>\n",
       "      <td>150</td>\n",
       "      <td>164</td>\n",
       "      <td>fake</td>\n",
       "    </tr>\n",
       "    <tr>\n",
       "      <th>117</th>\n",
       "      <td>yes</td>\n",
       "      <td>2</td>\n",
       "      <td>0</td>\n",
       "      <td>3</td>\n",
       "      <td>833</td>\n",
       "      <td>3572</td>\n",
       "      <td>fake</td>\n",
       "    </tr>\n",
       "    <tr>\n",
       "      <th>118</th>\n",
       "      <td>no</td>\n",
       "      <td>1</td>\n",
       "      <td>0</td>\n",
       "      <td>1</td>\n",
       "      <td>219</td>\n",
       "      <td>1695</td>\n",
       "      <td>fake</td>\n",
       "    </tr>\n",
       "    <tr>\n",
       "      <th>119</th>\n",
       "      <td>yes</td>\n",
       "      <td>1</td>\n",
       "      <td>0</td>\n",
       "      <td>3</td>\n",
       "      <td>39</td>\n",
       "      <td>68</td>\n",
       "      <td>fake</td>\n",
       "    </tr>\n",
       "  </tbody>\n",
       "</table>\n",
       "<p>120 rows × 7 columns</p>\n",
       "</div>"
      ],
      "text/plain": [
       "    has_a_profile_pic  number_of_words_in_name  num_characters_in_bio  \\\n",
       "0                 yes                        1                     30   \n",
       "1                 yes                        5                     64   \n",
       "2                 yes                        2                     82   \n",
       "3                 yes                        1                    143   \n",
       "4                 yes                        1                     76   \n",
       "..                ...                      ...                    ...   \n",
       "115               yes                        1                      0   \n",
       "116               yes                        1                      0   \n",
       "117               yes                        2                      0   \n",
       "118                no                        1                      0   \n",
       "119               yes                        1                      0   \n",
       "\n",
       "     number_of_posts  number_of_followers  number_of_follows account_type  \n",
       "0                 35                  488                604         real  \n",
       "1                  3                   35                  6         real  \n",
       "2                319                  328                668         real  \n",
       "3                273                14890               7369         real  \n",
       "4                  6                  225                356         real  \n",
       "..               ...                  ...                ...          ...  \n",
       "115               13                  114                811         fake  \n",
       "116                4                  150                164         fake  \n",
       "117                3                  833               3572         fake  \n",
       "118                1                  219               1695         fake  \n",
       "119                3                   39                 68         fake  \n",
       "\n",
       "[120 rows x 7 columns]"
      ]
     },
     "execution_count": 3,
     "metadata": {},
     "output_type": "execute_result"
    }
   ],
   "source": []
  },
  {
   "cell_type": "markdown",
   "metadata": {},
   "source": [
    "### 2. Two Samples\n",
    "\n",
    "\n",
    "#### 2.1. [0.25 pts] Sample Means\n",
    "Now, calculate the sample mean numerical value of the real accounts and the sample mean numerical value of the fake accounts."
   ]
  },
  {
   "cell_type": "code",
   "execution_count": 20,
   "metadata": {},
   "outputs": [],
   "source": [
    "real_mean = df[df['account_type']=='real']['number_of_followers'].mean()"
   ]
  },
  {
   "cell_type": "code",
   "execution_count": 21,
   "metadata": {},
   "outputs": [],
   "source": [
    "fake_mean = df[df['account_type']=='fake']['number_of_followers'].mean()"
   ]
  },
  {
   "cell_type": "markdown",
   "metadata": {},
   "source": [
    "#### 2.2.  [0.25 pts] Sample Standard Deviations\n",
    "Then, calculate the sample standard deviation numerical value of the real accounts and the sample standard deviation numerical value of the fake accounts."
   ]
  },
  {
   "cell_type": "code",
   "execution_count": 12,
   "metadata": {},
   "outputs": [],
   "source": [
    "real_std = df[df['account_type']=='real']['number_of_followers'].std()"
   ]
  },
  {
   "cell_type": "code",
   "execution_count": 13,
   "metadata": {},
   "outputs": [],
   "source": [
    "fake_std = df[df['account_type']=='fake']['number_of_followers'].std()"
   ]
  },
  {
   "cell_type": "markdown",
   "metadata": {},
   "source": [
    "#### 2.3.  [0.25 pts] Sample Distributions\n",
    "\n",
    "Finally, plot a histogram of the numerical values for the real accounts. Then plot a histogram of the numerical values for the fake accounts. Make sure you give an appropriate x-axis label, y-axis label, and title for these two plots."
   ]
  },
  {
   "cell_type": "code",
   "execution_count": 16,
   "metadata": {},
   "outputs": [
    {
     "data": {
      "image/png": "[encoded data removed]",
      "text/plain": [
       "<Figure size 432x288 with 1 Axes>"
      ]
     },
     "metadata": {},
     "output_type": "display_data"
    }
   ],
   "source": [
    "df[df['account_type']=='fake']['number_of_followers'].hist(color='orange')\n",
    "plt.title('Sample Distribution of number of followers values for the fake accounts.')\n",
    "plt.xlabel('number of followers')\n",
    "plt.ylabel('Frequency')\n",
    "plt.show()"
   ]
  },
  {
   "cell_type": "code",
   "execution_count": null,
   "metadata": {},
   "outputs": [],
   "source": []
  },
  {
   "cell_type": "markdown",
   "metadata": {},
   "source": [
    "### 3. Hypothesis Testing\n",
    "\n",
    "Finally, we would like to see if we have enough evidence to suggest that there is an association between the account status (ie. fake vs. real) and this numerical variable you chose *for ALL Instagram accounts*. Or in other words, we would like to test whether there is a difference in the population average value for real accounts and the population average value for fake accounts.\n",
    "\n",
    "*Ex: For instance, I want to know if there is an association between account status and the number of posts an account makes. So I would be interested in testing whether $\\mu_{real}-\\mu_{fake}\\neq 0$, where $\\mu_{real}$ is the average number of posts made by all real Instagram accounts and $\\mu_{fake}$ is the average number of posts made by all fake Instagram accounts.*\n",
    "\n",
    "#### 3.1. [0.5 pt] Hypotheses Set Up\n",
    "\n",
    "\n",
    "First, set up your hypotheses below for this test. You should use the appropriate notation to write these hypotheses. For any population parameter terms that you use, you should define what this parameter refers to. "
   ]
  },
  {
   "cell_type": "markdown",
   "metadata": {},
   "source": [
    "$H_0$: $\\mu_{real}-\\mu_{fake} =0$    \n",
    "\n",
    "$H_1$: $\\mu_{real}-\\mu_{fake}\\neq 0$\n",
    "\n",
    "Where $\\mu_{real}$ is the number of followers made by real insta accounts\n",
    "Where $\\mu_{fake}$ is the number of followers made by fake insta accounts"
   ]
  },
  {
   "cell_type": "markdown",
   "metadata": {},
   "source": [
    "#### 3.2. [0.75 pt] Hypothesis Test Conditions\n",
    "\n",
    "Next, check your conditions for conducting this hypothesis test."
   ]
  },
  {
   "cell_type": "markdown",
   "metadata": {},
   "source": []
  },
  {
   "cell_type": "code",
   "execution_count": 18,
   "metadata": {},
   "outputs": [
    {
     "data": {
      "text/plain": [
       "60"
      ]
     },
     "execution_count": 18,
     "metadata": {},
     "output_type": "execute_result"
    }
   ],
   "source": [
    "df[df['account_type']=='fake'].shape[0]"
   ]
  },
  {
   "cell_type": "code",
   "execution_count": 19,
   "metadata": {},
   "outputs": [
    {
     "data": {
      "text/plain": [
       "60"
      ]
     },
     "execution_count": 19,
     "metadata": {},
     "output_type": "execute_result"
    }
   ],
   "source": [
    "df[df['account_type']=='real'].shape[0]"
   ]
  },
  {
   "cell_type": "markdown",
   "metadata": {},
   "source": [
    "1. the sample size n1 = 60 > 30\n",
    "2. the sample size n2 = 60 > 30\n",
    "3. Sample 1 is collected randomly and 𝑛 < 10% of population 1 size\n",
    "4. Sample 2 is collected randomly and 𝑛< 10% of population 2 size\n",
    "5. The observation in sample 1 and 2 are independent.\n",
    "\n",
    "Therefore, the CLT hold. The sampling distribution will made this anlysis valid"
   ]
  },
  {
   "cell_type": "markdown",
   "metadata": {},
   "source": [
    "#### 4.3. [3 pt] p-value\n",
    "\n",
    "Calculate the p-value for this hypothesis test.\n",
    "\n",
    "**Note: you should use the most \"accurate\" way of calculating this p-value using the methods that we have recently discussed in class.**"
   ]
  },
  {
   "cell_type": "code",
   "execution_count": 24,
   "metadata": {},
   "outputs": [
    {
     "data": {
      "text/plain": [
       "1.42119270311191"
      ]
     },
     "execution_count": 24,
     "metadata": {},
     "output_type": "execute_result"
    }
   ],
   "source": [
    "t_score = (real_mean - fake_mean - 0)/((real_std**2/60) + (fake_std**2/60))**0.5\n",
    "t_score"
   ]
  },
  {
   "cell_type": "code",
   "execution_count": 27,
   "metadata": {},
   "outputs": [
    {
     "data": {
      "text/plain": [
       "0.16052491089284437"
      ]
     },
     "execution_count": 27,
     "metadata": {},
     "output_type": "execute_result"
    }
   ],
   "source": [
    "p_value = 2*(1 - t.cdf(t_score, df = 59))\n",
    "p_value"
   ]
  },
  {
   "cell_type": "markdown",
   "metadata": {},
   "source": [
    "#### 4.4. [0.5 pt] Conclusion with p-value\n",
    "\n",
    "Finally, make a conclusion about your hypotheses with your p-value and a significance level of $\\alpha = 0.05$."
   ]
  },
  {
   "cell_type": "markdown",
   "metadata": {},
   "source": [
    "0.16052491089284437 is greater than 0.05, so fail to reject the null hypothesis"
   ]
  },
  {
   "cell_type": "markdown",
   "metadata": {},
   "source": [
    "### <u>Contribution Report</u>:"
   ]
  },
  {
   "cell_type": "markdown",
   "metadata": {},
   "source": []
  }
 ],
 "metadata": {
  "kernelspec": {
   "display_name": "Python 3",
   "language": "python",
   "name": "python3"
  },
  "language_info": {
   "codemirror_mode": {
    "name": "ipython",
    "version": 3
   },
   "file_extension": ".py",
   "mimetype": "text/x-python",
   "name": "python",
   "nbconvert_exporter": "python",
   "pygments_lexer": "ipython3",
   "version": "3.8.8"
  }
 },
 "nbformat": 4,
 "nbformat_minor": 2
}
