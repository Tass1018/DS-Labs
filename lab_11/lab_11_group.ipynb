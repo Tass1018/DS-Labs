{
 "cells": [
  {
   "cell_type": "markdown",
   "metadata": {},
   "source": [
    "# Lab 11 - Group - Midterm 2 Review - [5 points]\n",
    "\n"
   ]
  },
  {
   "cell_type": "markdown",
   "metadata": {},
   "source": [
    "## <u>Case Study</u>: Inference on a Population Proportion\n",
    "\n",
    "Suppose that a Calculus student is curious about the proportion of former Calculus students that got A's in the class that they are currently enrolled in (taught by Dr. Difficult). This class has had thousands of students enrolled in the past. The student collects a random sample of 60 former students who have taken the class and asks them if they got an A in the class (or not). 40% of the students in the sample got an A.\n",
    "\n",
    "This student also knows that the proportion of all students who took another Calculus class (taught by Dr. Eezee) and got an A was 0.80. The student would like to determine if there is evidence to suggest that the proportion of students who have taken Dr. Difficult's class that get A's is *different* than the the proportion of students who have taken Dr. Eezee's class that get A's.\n",
    "\n",
    "So we will be testing the following hypotheses below.\n",
    "\n",
    "$H_0: p=0.8$\n",
    "\n",
    "$H_A: p\\neq 0.8$,\n",
    "\n",
    "where $p=$ the proportion of all student's who have taken Dr. Difficult's class that got A's."
   ]
  },
  {
   "cell_type": "code",
   "execution_count": 1,
   "metadata": {},
   "outputs": [],
   "source": [
    "import pandas as pd\n",
    "import seaborn as sns\n",
    "import statsmodels.formula.api as smf\n",
    "import numpy as np\n"
   ]
  },
  {
   "cell_type": "markdown",
   "metadata": {},
   "source": [
    "### Test Statistic\n",
    "\n",
    "First, we calculate the test statistic for this hypothesis test."
   ]
  },
  {
   "cell_type": "code",
   "execution_count": 2,
   "metadata": {},
   "outputs": [
    {
     "data": {
      "text/plain": [
       "-7.745966692414835"
      ]
     },
     "execution_count": 2,
     "metadata": {},
     "output_type": "execute_result"
    }
   ],
   "source": [
    "point_estimate = 0.4\n",
    "n = 60\n",
    "null_value = 0.8\n",
    "\n",
    "test_stat = (point_estimate - null_value)/np.sqrt(null_value*(1-null_value)/n)\n",
    "test_stat"
   ]
  },
  {
   "cell_type": "markdown",
   "metadata": {},
   "source": [
    "### p-value \n",
    "\n",
    "Then, we calculate the p-value for this hypothesis test."
   ]
  },
  {
   "cell_type": "code",
   "execution_count": 3,
   "metadata": {},
   "outputs": [
    {
     "data": {
      "text/plain": [
       "9.547918011776346e-15"
      ]
     },
     "execution_count": 3,
     "metadata": {},
     "output_type": "execute_result"
    }
   ],
   "source": [
    "from scipy.stats import norm\n",
    "pvalue = 2*(1-norm.cdf(np.abs(test_stat)))\n",
    "pvalue"
   ]
  },
  {
   "cell_type": "markdown",
   "metadata": {},
   "source": [
    "###  Fill in the Blank Section [0.25 points for each number or letter blank]\n",
    "\n",
    "Write your answers below to the corresponding numbered (or lettered) blanks in the attached pdf in this folder."
   ]
  },
  {
   "cell_type": "markdown",
   "metadata": {},
   "source": [
    "#### Numbers\n",
    "1. \n",
    "2. \n",
    "3. \n",
    "4. \n",
    "5. \n",
    "6. \n",
    "7. \n",
    "8. \n",
    "9. \n",
    "10. \n",
    "11. \n",
    "12. \n",
    "13. \n",
    "14. \n",
    "15. \n",
    "16. \n",
    "17. \n",
    "\n",
    "\n",
    "#### Conditions\n",
    "a. \n",
    "\n",
    "b.  \n",
    "\n",
    "c. "
   ]
  },
  {
   "cell_type": "code",
   "execution_count": null,
   "metadata": {},
   "outputs": [],
   "source": []
  }
 ],
 "metadata": {
  "kernelspec": {
   "display_name": "Python 3",
   "language": "python",
   "name": "python3"
  },
  "language_info": {
   "codemirror_mode": {
    "name": "ipython",
    "version": 3
   },
   "file_extension": ".py",
   "mimetype": "text/x-python",
   "name": "python",
   "nbconvert_exporter": "python",
   "pygments_lexer": "ipython3",
   "version": "3.8.8"
  }
 },
 "nbformat": 4,
 "nbformat_minor": 4
}
