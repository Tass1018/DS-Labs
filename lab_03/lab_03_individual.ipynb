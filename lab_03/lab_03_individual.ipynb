{
 "cells": [
  {
   "cell_type": "markdown",
   "metadata": {},
   "source": [
    "# STAT 207 Lab Assignment 3 - Individual Part - [25 total points]\n",
    "\n",
    "## Probability and Sampling Distributions"
   ]
  },
  {
   "cell_type": "markdown",
   "metadata": {},
   "source": [
    "Due: Tuesday, September 14, 11:59pm CST\n",
    "\n",
    "<hr>\n"
   ]
  },
  {
   "cell_type": "markdown",
   "metadata": {},
   "source": [
    "### Imports"
   ]
  },
  {
   "cell_type": "code",
   "execution_count": 1,
   "metadata": {},
   "outputs": [],
   "source": [
    "import pandas as pd\n",
    "import numpy as np\n",
    "import seaborn as sns\n",
    "import matplotlib.pyplot as plt"
   ]
  },
  {
   "cell_type": "markdown",
   "metadata": {},
   "source": [
    "## <u>Case Study</u>: 'Four of a Kind' Poker Hand Analysis\n",
    "\n",
    "In poker, a 'four of a kind' is a drawn hand (of 5 cards) that contains four cards of one face and another 1 card of a second face. One example of a 'four of a kind' poker hand is: 9♣ 9♠ 9♦ 9♥ J♥.\n",
    "\n",
    "### 1. [4 pt] Calculating the Probability of a 'Four of a Kind' Hand *Theoretically* \n",
    "\n",
    "Calculate the *theoretical* probability of drawing a 'four of a kind' hand from a 52 card playing deck.\n",
    "\n",
    "* <u>Hint</u>: Remember, when we draw a hand in poker, we draw the five cards without replacement and the order of cards that you selected doesn't matter.\n",
    "\n",
    "**Show your work and calculations!**\n",
    "\n",
    "<hr>"
   ]
  },
  {
   "cell_type": "markdown",
   "metadata": {},
   "source": [
    "- p = 13C1 * 4C4 * 48C1 / 52C5\n",
    "\n",
    "- 13C1 = 13;\n",
    "  4C4 = 1;\n",
    "  48C1 = 48;\n",
    "  52C5 = 2598960"
   ]
  },
  {
   "cell_type": "code",
   "execution_count": 10,
   "metadata": {},
   "outputs": [
    {
     "name": "stdout",
     "output_type": "stream",
     "text": [
      "Probability of four of a kind =  0.00024009603841536616\n"
     ]
    }
   ],
   "source": [
    "print('Probability of four of a kind = ',\n",
    "     (13*1*48)/2598960)"
   ]
  },
  {
   "cell_type": "markdown",
   "metadata": {},
   "source": [
    "### 2. *Approximating* the Probability of a 'Four of a Kind' Hand \n",
    "\n",
    "We have created two test hands below in the form of dataframes.\n",
    "1. **hand1** is a 'four of a kind' hand.\n",
    "2. **hand2** is not a 'four of a kind' hand."
   ]
  },
  {
   "cell_type": "code",
   "execution_count": 13,
   "metadata": {},
   "outputs": [
    {
     "data": {
      "text/html": [
       "<div>\n",
       "<style scoped>\n",
       "    .dataframe tbody tr th:only-of-type {\n",
       "        vertical-align: middle;\n",
       "    }\n",
       "\n",
       "    .dataframe tbody tr th {\n",
       "        vertical-align: top;\n",
       "    }\n",
       "\n",
       "    .dataframe thead th {\n",
       "        text-align: right;\n",
       "    }\n",
       "</style>\n",
       "<table border=\"1\" class=\"dataframe\">\n",
       "  <thead>\n",
       "    <tr style=\"text-align: right;\">\n",
       "      <th></th>\n",
       "      <th>face</th>\n",
       "      <th>suit</th>\n",
       "    </tr>\n",
       "  </thead>\n",
       "  <tbody>\n",
       "    <tr>\n",
       "      <th>0</th>\n",
       "      <td>J</td>\n",
       "      <td>heart</td>\n",
       "    </tr>\n",
       "    <tr>\n",
       "      <th>1</th>\n",
       "      <td>J</td>\n",
       "      <td>club</td>\n",
       "    </tr>\n",
       "    <tr>\n",
       "      <th>2</th>\n",
       "      <td>J</td>\n",
       "      <td>spade</td>\n",
       "    </tr>\n",
       "    <tr>\n",
       "      <th>3</th>\n",
       "      <td>9</td>\n",
       "      <td>club</td>\n",
       "    </tr>\n",
       "    <tr>\n",
       "      <th>4</th>\n",
       "      <td>J</td>\n",
       "      <td>diamond</td>\n",
       "    </tr>\n",
       "  </tbody>\n",
       "</table>\n",
       "</div>"
      ],
      "text/plain": [
       "  face     suit\n",
       "0    J    heart\n",
       "1    J     club\n",
       "2    J    spade\n",
       "3    9     club\n",
       "4    J  diamond"
      ]
     },
     "execution_count": 13,
     "metadata": {},
     "output_type": "execute_result"
    }
   ],
   "source": [
    "import pandas as pd\n",
    "hand1 = pd.DataFrame({'face': ['J','J','J','9','J'],\n",
    "                           'suit': ['heart', 'club', 'spade', 'club', 'diamond']})\n",
    "hand1"
   ]
  },
  {
   "cell_type": "code",
   "execution_count": 14,
   "metadata": {},
   "outputs": [
    {
     "data": {
      "text/html": [
       "<div>\n",
       "<style scoped>\n",
       "    .dataframe tbody tr th:only-of-type {\n",
       "        vertical-align: middle;\n",
       "    }\n",
       "\n",
       "    .dataframe tbody tr th {\n",
       "        vertical-align: top;\n",
       "    }\n",
       "\n",
       "    .dataframe thead th {\n",
       "        text-align: right;\n",
       "    }\n",
       "</style>\n",
       "<table border=\"1\" class=\"dataframe\">\n",
       "  <thead>\n",
       "    <tr style=\"text-align: right;\">\n",
       "      <th></th>\n",
       "      <th>face</th>\n",
       "      <th>suit</th>\n",
       "    </tr>\n",
       "  </thead>\n",
       "  <tbody>\n",
       "    <tr>\n",
       "      <th>0</th>\n",
       "      <td>J</td>\n",
       "      <td>heart</td>\n",
       "    </tr>\n",
       "    <tr>\n",
       "      <th>1</th>\n",
       "      <td>J</td>\n",
       "      <td>club</td>\n",
       "    </tr>\n",
       "    <tr>\n",
       "      <th>2</th>\n",
       "      <td>Q</td>\n",
       "      <td>spade</td>\n",
       "    </tr>\n",
       "    <tr>\n",
       "      <th>3</th>\n",
       "      <td>9</td>\n",
       "      <td>club</td>\n",
       "    </tr>\n",
       "    <tr>\n",
       "      <th>4</th>\n",
       "      <td>J</td>\n",
       "      <td>diamond</td>\n",
       "    </tr>\n",
       "  </tbody>\n",
       "</table>\n",
       "</div>"
      ],
      "text/plain": [
       "  face     suit\n",
       "0    J    heart\n",
       "1    J     club\n",
       "2    Q    spade\n",
       "3    9     club\n",
       "4    J  diamond"
      ]
     },
     "execution_count": 14,
     "metadata": {},
     "output_type": "execute_result"
    }
   ],
   "source": [
    "hand2 = pd.DataFrame({'face': ['J','J','Q','9','J'],\n",
    "                           'suit': ['heart', 'club', 'spade', 'club', 'diamond']})\n",
    "hand2"
   ]
  },
  {
   "cell_type": "markdown",
   "metadata": {},
   "source": [
    "#### 2.1. [3 pt] Function that Tests if a Hand is a 'Four of a Kind'\n",
    "\n",
    "a. Create a function that returns a True if the dataframe (that represents a poker hand) is a 'four of a kind' hand and returns False if it is not a 'four of a kind' hand.\n",
    "\n",
    "b. Then use this function on the **hand1** and **hand2** dataframes to test your results."
   ]
  },
  {
   "cell_type": "code",
   "execution_count": 15,
   "metadata": {},
   "outputs": [],
   "source": [
    "def fourofahand(df, var='face'):\n",
    "    if df[var].shape[0] != 5:\n",
    "        return 'Not a poker hand'\n",
    "    else:\n",
    "        counts = df[var].value_counts()\n",
    "        if counts.max() == 4 and counts.min()==1:\n",
    "            return True\n",
    "        else:\n",
    "            return False"
   ]
  },
  {
   "cell_type": "code",
   "execution_count": 16,
   "metadata": {},
   "outputs": [
    {
     "data": {
      "text/plain": [
       "True"
      ]
     },
     "execution_count": 16,
     "metadata": {},
     "output_type": "execute_result"
    }
   ],
   "source": [
    "fourofahand(hand1)"
   ]
  },
  {
   "cell_type": "code",
   "execution_count": 17,
   "metadata": {},
   "outputs": [
    {
     "data": {
      "text/plain": [
       "False"
      ]
     },
     "execution_count": 17,
     "metadata": {},
     "output_type": "execute_result"
    }
   ],
   "source": [
    "fourofahand(hand2)"
   ]
  },
  {
   "cell_type": "markdown",
   "metadata": {},
   "source": [
    "#### 2.2. [3 pt] Approximating the probability that a randomly drawn hand is a 'four of a kind' hand.\n",
    "\n",
    "Using the cards.csv file attached to this lab, conduct a simulation that does the following.\n",
    "\n",
    "1. Simulate drawing 10000 hands (ie. 5 cards) from the 52 card deck. Each trial is randomly sampled without replacement. (But you can assume that after each trial, the 5 drawn cards were put back in the deck).\n",
    "2. Tests whether the trial hand is a 'four of a kind' hand.\n",
    "3. Calculates the proportion of the 10000 hands that were a four of a kind' hand.\n",
    "\n",
    "This proportion will be your approximated probability of drawing a 'four of a kind' hand in poker.\n",
    "\n",
    "**Warning: Using print statements (depending on how large of an object you're printing) may cause your notebook to crash with for loops with lots of iterations.**"
   ]
  },
  {
   "cell_type": "code",
   "execution_count": 19,
   "metadata": {},
   "outputs": [],
   "source": [
    "cards = pd.read_csv('cards.csv')\n",
    "fourofahand_count = 0\n",
    "n = 10000\n",
    "for i in range(n):\n",
    "    new_hand = cards.sample(5)\n",
    "    \n",
    "    fourofahand_count += fourofahand(new_hand)"
   ]
  },
  {
   "cell_type": "code",
   "execution_count": 20,
   "metadata": {},
   "outputs": [
    {
     "name": "stdout",
     "output_type": "stream",
     "text": [
      "3\n",
      "10000\n",
      "Probability estimate based on  10000 iterations: 0.0003\n"
     ]
    }
   ],
   "source": [
    "print(fourofahand_count)\n",
    "print(10000)\n",
    "print('Probability estimate based on ', n, 'iterations:', fourofahand_count/n)"
   ]
  },
  {
   "cell_type": "markdown",
   "metadata": {},
   "source": [
    "### 3. [0.5 pt] Comparison of Theoretical and Approximated Probabilities\n",
    "\n",
    "What is the difference between your theoretical probability that you calculated in #1 and your approximated probability that you calculated in 2.2?"
   ]
  },
  {
   "cell_type": "markdown",
   "metadata": {},
   "source": [
    "- The theoretical probabilities is smaller than the approximated probability.\n",
    "- The theoretical probabilities has more digital number than the approximated probability.\n"
   ]
  },
  {
   "cell_type": "markdown",
   "metadata": {},
   "source": [
    "<hr>\n",
    "\n",
    "## <u>Case Study</u>: Champaign County and Surrounding Counties Multi-Unit Housing Structure Analysis\n",
    "\n",
    "The county.csv file attached contains various statistics about each county in the United States. You can read more about this dataset and what the variables mean here: https://www.openintro.org/data/index.php?data=county\n",
    "\n",
    "**Champaign County**\n",
    "\n",
    "Because Champaign County in Illinois is home to UIUC, in which a lot of students and young adults live in apartments, we have a conjecture that this county will have a high percent of housing units in multi-unit structures. The multi_unit column in this csv contains the percent of housing units in each county that are in multi-unit structures. \n",
    "\n",
    "**Champaign County and Neighboring Counties**\n",
    "\n",
    "Because of the research park at UIUC, could it also be the case that there are lots of young adults that live in apartments in counties that are close to Champaign county? In addition, if we look at Champaign county, as well as the four neighboring counties (Vermilion, Ford, Piatt, and Douglas) and calculate the **average** multi_unit rate, will this average multi_unit rate be higher than the average multi_unit rate of five counties that were randomly selected from the population of U.S. counties?\n",
    "\n",
    "### 4. Data Basics\n",
    "\n",
    "#### 4.1. [0.5 pt] Read the county csv file into a dataframe and show the first five rows.\n",
    "\n",
    "**<u>Note</u>: This csv file does have some missing values, but the multi_unit variable does not have any missing values. Because we will only be using the multi_unit variable in this analysis we do not need to worry about cleaning the dataframe or dropping any rows with missing values for now.**"
   ]
  },
  {
   "cell_type": "code",
   "execution_count": 22,
   "metadata": {},
   "outputs": [
    {
     "data": {
      "text/html": [
       "<div>\n",
       "<style scoped>\n",
       "    .dataframe tbody tr th:only-of-type {\n",
       "        vertical-align: middle;\n",
       "    }\n",
       "\n",
       "    .dataframe tbody tr th {\n",
       "        vertical-align: top;\n",
       "    }\n",
       "\n",
       "    .dataframe thead th {\n",
       "        text-align: right;\n",
       "    }\n",
       "</style>\n",
       "<table border=\"1\" class=\"dataframe\">\n",
       "  <thead>\n",
       "    <tr style=\"text-align: right;\">\n",
       "      <th></th>\n",
       "      <th>name</th>\n",
       "      <th>state</th>\n",
       "      <th>pop2000</th>\n",
       "      <th>pop2010</th>\n",
       "      <th>pop2017</th>\n",
       "      <th>pop_change</th>\n",
       "      <th>poverty</th>\n",
       "      <th>homeownership</th>\n",
       "      <th>multi_unit</th>\n",
       "      <th>unemployment_rate</th>\n",
       "      <th>metro</th>\n",
       "      <th>median_edu</th>\n",
       "      <th>per_capita_income</th>\n",
       "      <th>median_hh_income</th>\n",
       "      <th>smoking_ban</th>\n",
       "    </tr>\n",
       "  </thead>\n",
       "  <tbody>\n",
       "    <tr>\n",
       "      <th>0</th>\n",
       "      <td>Autauga County</td>\n",
       "      <td>Alabama</td>\n",
       "      <td>43671</td>\n",
       "      <td>54571</td>\n",
       "      <td>55504</td>\n",
       "      <td>1.48</td>\n",
       "      <td>13.7</td>\n",
       "      <td>77.5</td>\n",
       "      <td>7.2</td>\n",
       "      <td>3.86</td>\n",
       "      <td>yes</td>\n",
       "      <td>some_college</td>\n",
       "      <td>27841.7</td>\n",
       "      <td>55317</td>\n",
       "      <td>none</td>\n",
       "    </tr>\n",
       "    <tr>\n",
       "      <th>1</th>\n",
       "      <td>Baldwin County</td>\n",
       "      <td>Alabama</td>\n",
       "      <td>140415</td>\n",
       "      <td>182265</td>\n",
       "      <td>212628</td>\n",
       "      <td>9.19</td>\n",
       "      <td>11.8</td>\n",
       "      <td>76.7</td>\n",
       "      <td>22.6</td>\n",
       "      <td>3.99</td>\n",
       "      <td>yes</td>\n",
       "      <td>some_college</td>\n",
       "      <td>27779.85</td>\n",
       "      <td>52562</td>\n",
       "      <td>none</td>\n",
       "    </tr>\n",
       "    <tr>\n",
       "      <th>2</th>\n",
       "      <td>Barbour County</td>\n",
       "      <td>Alabama</td>\n",
       "      <td>29038</td>\n",
       "      <td>27457</td>\n",
       "      <td>25270</td>\n",
       "      <td>-6.22</td>\n",
       "      <td>27.2</td>\n",
       "      <td>68.0</td>\n",
       "      <td>11.1</td>\n",
       "      <td>5.9</td>\n",
       "      <td>no</td>\n",
       "      <td>hs_diploma</td>\n",
       "      <td>17891.73</td>\n",
       "      <td>33368</td>\n",
       "      <td>partial</td>\n",
       "    </tr>\n",
       "    <tr>\n",
       "      <th>3</th>\n",
       "      <td>Bibb County</td>\n",
       "      <td>Alabama</td>\n",
       "      <td>20826</td>\n",
       "      <td>22915</td>\n",
       "      <td>22668</td>\n",
       "      <td>0.73</td>\n",
       "      <td>15.2</td>\n",
       "      <td>82.9</td>\n",
       "      <td>6.6</td>\n",
       "      <td>4.39</td>\n",
       "      <td>yes</td>\n",
       "      <td>hs_diploma</td>\n",
       "      <td>20572.05</td>\n",
       "      <td>43404</td>\n",
       "      <td>none</td>\n",
       "    </tr>\n",
       "    <tr>\n",
       "      <th>4</th>\n",
       "      <td>Blount County</td>\n",
       "      <td>Alabama</td>\n",
       "      <td>51024</td>\n",
       "      <td>57322</td>\n",
       "      <td>58013</td>\n",
       "      <td>0.68</td>\n",
       "      <td>15.6</td>\n",
       "      <td>82.0</td>\n",
       "      <td>3.7</td>\n",
       "      <td>4.02</td>\n",
       "      <td>yes</td>\n",
       "      <td>hs_diploma</td>\n",
       "      <td>21367.39</td>\n",
       "      <td>47412</td>\n",
       "      <td>none</td>\n",
       "    </tr>\n",
       "  </tbody>\n",
       "</table>\n",
       "</div>"
      ],
      "text/plain": [
       "             name    state pop2000  pop2010 pop2017 pop_change poverty  \\\n",
       "0  Autauga County  Alabama   43671    54571   55504       1.48    13.7   \n",
       "1  Baldwin County  Alabama  140415   182265  212628       9.19    11.8   \n",
       "2  Barbour County  Alabama   29038    27457   25270      -6.22    27.2   \n",
       "3     Bibb County  Alabama   20826    22915   22668       0.73    15.2   \n",
       "4   Blount County  Alabama   51024    57322   58013       0.68    15.6   \n",
       "\n",
       "   homeownership  multi_unit unemployment_rate metro    median_edu  \\\n",
       "0           77.5         7.2              3.86   yes  some_college   \n",
       "1           76.7        22.6              3.99   yes  some_college   \n",
       "2           68.0        11.1               5.9    no    hs_diploma   \n",
       "3           82.9         6.6              4.39   yes    hs_diploma   \n",
       "4           82.0         3.7              4.02   yes    hs_diploma   \n",
       "\n",
       "  per_capita_income median_hh_income smoking_ban  \n",
       "0           27841.7            55317        none  \n",
       "1          27779.85            52562        none  \n",
       "2          17891.73            33368     partial  \n",
       "3          20572.05            43404        none  \n",
       "4          21367.39            47412        none  "
      ]
     },
     "execution_count": 22,
     "metadata": {},
     "output_type": "execute_result"
    }
   ],
   "source": [
    "county = pd.read_csv('county.csv')\n",
    "county.head(5)"
   ]
  },
  {
   "cell_type": "markdown",
   "metadata": {},
   "source": [
    "#### <u>Tutorial</u>: Row filtering for multiple conditions\n"
   ]
  },
  {
   "cell_type": "code",
   "execution_count": 3,
   "metadata": {},
   "outputs": [
    {
     "data": {
      "text/html": [
       "<div>\n",
       "<style scoped>\n",
       "    .dataframe tbody tr th:only-of-type {\n",
       "        vertical-align: middle;\n",
       "    }\n",
       "\n",
       "    .dataframe tbody tr th {\n",
       "        vertical-align: top;\n",
       "    }\n",
       "\n",
       "    .dataframe thead th {\n",
       "        text-align: right;\n",
       "    }\n",
       "</style>\n",
       "<table border=\"1\" class=\"dataframe\">\n",
       "  <thead>\n",
       "    <tr style=\"text-align: right;\">\n",
       "      <th></th>\n",
       "      <th>x</th>\n",
       "      <th>y</th>\n",
       "    </tr>\n",
       "  </thead>\n",
       "  <tbody>\n",
       "    <tr>\n",
       "      <th>0</th>\n",
       "      <td>3</td>\n",
       "      <td>100</td>\n",
       "    </tr>\n",
       "    <tr>\n",
       "      <th>1</th>\n",
       "      <td>3</td>\n",
       "      <td>101</td>\n",
       "    </tr>\n",
       "    <tr>\n",
       "      <th>2</th>\n",
       "      <td>10</td>\n",
       "      <td>100</td>\n",
       "    </tr>\n",
       "    <tr>\n",
       "      <th>3</th>\n",
       "      <td>10</td>\n",
       "      <td>22</td>\n",
       "    </tr>\n",
       "  </tbody>\n",
       "</table>\n",
       "</div>"
      ],
      "text/plain": [
       "    x    y\n",
       "0   3  100\n",
       "1   3  101\n",
       "2  10  100\n",
       "3  10   22"
      ]
     },
     "execution_count": 3,
     "metadata": {},
     "output_type": "execute_result"
    }
   ],
   "source": [
    "tmp=pd.DataFrame({'x':[3,3,10,10], 'y':[100,101,100,22]})\n",
    "tmp"
   ]
  },
  {
   "cell_type": "markdown",
   "metadata": {},
   "source": [
    "We can use the **&** (ie. and) operator to represent that we want **both** conditions on either side of it \"(condition 1 in parantheses) & (condition 2 in parantheses)\" to be met."
   ]
  },
  {
   "cell_type": "code",
   "execution_count": 4,
   "metadata": {},
   "outputs": [
    {
     "data": {
      "text/html": [
       "<div>\n",
       "<style scoped>\n",
       "    .dataframe tbody tr th:only-of-type {\n",
       "        vertical-align: middle;\n",
       "    }\n",
       "\n",
       "    .dataframe tbody tr th {\n",
       "        vertical-align: top;\n",
       "    }\n",
       "\n",
       "    .dataframe thead th {\n",
       "        text-align: right;\n",
       "    }\n",
       "</style>\n",
       "<table border=\"1\" class=\"dataframe\">\n",
       "  <thead>\n",
       "    <tr style=\"text-align: right;\">\n",
       "      <th></th>\n",
       "      <th>x</th>\n",
       "      <th>y</th>\n",
       "    </tr>\n",
       "  </thead>\n",
       "  <tbody>\n",
       "    <tr>\n",
       "      <th>0</th>\n",
       "      <td>3</td>\n",
       "      <td>100</td>\n",
       "    </tr>\n",
       "  </tbody>\n",
       "</table>\n",
       "</div>"
      ],
      "text/plain": [
       "   x    y\n",
       "0  3  100"
      ]
     },
     "execution_count": 4,
     "metadata": {},
     "output_type": "execute_result"
    }
   ],
   "source": [
    "tmp[(tmp['x']==3) & (tmp['y']==100)]"
   ]
  },
  {
   "cell_type": "markdown",
   "metadata": {},
   "source": [
    "We can use the **|** (ie. or) operator to represent that we want **either** condition on either side of it \"(condition 1 in parantheses) | (condition 2 in parantheses)\" to be met."
   ]
  },
  {
   "cell_type": "code",
   "execution_count": 5,
   "metadata": {},
   "outputs": [
    {
     "data": {
      "text/html": [
       "<div>\n",
       "<style scoped>\n",
       "    .dataframe tbody tr th:only-of-type {\n",
       "        vertical-align: middle;\n",
       "    }\n",
       "\n",
       "    .dataframe tbody tr th {\n",
       "        vertical-align: top;\n",
       "    }\n",
       "\n",
       "    .dataframe thead th {\n",
       "        text-align: right;\n",
       "    }\n",
       "</style>\n",
       "<table border=\"1\" class=\"dataframe\">\n",
       "  <thead>\n",
       "    <tr style=\"text-align: right;\">\n",
       "      <th></th>\n",
       "      <th>x</th>\n",
       "      <th>y</th>\n",
       "    </tr>\n",
       "  </thead>\n",
       "  <tbody>\n",
       "    <tr>\n",
       "      <th>0</th>\n",
       "      <td>3</td>\n",
       "      <td>100</td>\n",
       "    </tr>\n",
       "    <tr>\n",
       "      <th>1</th>\n",
       "      <td>3</td>\n",
       "      <td>101</td>\n",
       "    </tr>\n",
       "    <tr>\n",
       "      <th>2</th>\n",
       "      <td>10</td>\n",
       "      <td>100</td>\n",
       "    </tr>\n",
       "  </tbody>\n",
       "</table>\n",
       "</div>"
      ],
      "text/plain": [
       "    x    y\n",
       "0   3  100\n",
       "1   3  101\n",
       "2  10  100"
      ]
     },
     "execution_count": 5,
     "metadata": {},
     "output_type": "execute_result"
    }
   ],
   "source": [
    "tmp[(tmp['x']==3) | (tmp['y']==100)]"
   ]
  },
  {
   "cell_type": "markdown",
   "metadata": {},
   "source": [
    "We can use these operator together to express more complicated conditions."
   ]
  },
  {
   "cell_type": "code",
   "execution_count": 6,
   "metadata": {},
   "outputs": [
    {
     "data": {
      "text/html": [
       "<div>\n",
       "<style scoped>\n",
       "    .dataframe tbody tr th:only-of-type {\n",
       "        vertical-align: middle;\n",
       "    }\n",
       "\n",
       "    .dataframe tbody tr th {\n",
       "        vertical-align: top;\n",
       "    }\n",
       "\n",
       "    .dataframe thead th {\n",
       "        text-align: right;\n",
       "    }\n",
       "</style>\n",
       "<table border=\"1\" class=\"dataframe\">\n",
       "  <thead>\n",
       "    <tr style=\"text-align: right;\">\n",
       "      <th></th>\n",
       "      <th>x</th>\n",
       "      <th>y</th>\n",
       "    </tr>\n",
       "  </thead>\n",
       "  <tbody>\n",
       "    <tr>\n",
       "      <th>0</th>\n",
       "      <td>3</td>\n",
       "      <td>100</td>\n",
       "    </tr>\n",
       "    <tr>\n",
       "      <th>3</th>\n",
       "      <td>10</td>\n",
       "      <td>22</td>\n",
       "    </tr>\n",
       "  </tbody>\n",
       "</table>\n",
       "</div>"
      ],
      "text/plain": [
       "    x    y\n",
       "0   3  100\n",
       "3  10   22"
      ]
     },
     "execution_count": 6,
     "metadata": {},
     "output_type": "execute_result"
    }
   ],
   "source": [
    "tmp[((tmp['x']==3) & (tmp['y']==100)) | ((tmp['x']==10) & (tmp['y']==22))]"
   ]
  },
  {
   "cell_type": "markdown",
   "metadata": {},
   "source": [
    "#### 4.2. [1 pt] Display just the row for Champaign County, Illinois."
   ]
  },
  {
   "cell_type": "code",
   "execution_count": 27,
   "metadata": {},
   "outputs": [
    {
     "data": {
      "text/html": [
       "<div>\n",
       "<style scoped>\n",
       "    .dataframe tbody tr th:only-of-type {\n",
       "        vertical-align: middle;\n",
       "    }\n",
       "\n",
       "    .dataframe tbody tr th {\n",
       "        vertical-align: top;\n",
       "    }\n",
       "\n",
       "    .dataframe thead th {\n",
       "        text-align: right;\n",
       "    }\n",
       "</style>\n",
       "<table border=\"1\" class=\"dataframe\">\n",
       "  <thead>\n",
       "    <tr style=\"text-align: right;\">\n",
       "      <th></th>\n",
       "      <th>name</th>\n",
       "      <th>state</th>\n",
       "      <th>pop2000</th>\n",
       "      <th>pop2010</th>\n",
       "      <th>pop2017</th>\n",
       "      <th>pop_change</th>\n",
       "      <th>poverty</th>\n",
       "      <th>homeownership</th>\n",
       "      <th>multi_unit</th>\n",
       "      <th>unemployment_rate</th>\n",
       "      <th>metro</th>\n",
       "      <th>median_edu</th>\n",
       "      <th>per_capita_income</th>\n",
       "      <th>median_hh_income</th>\n",
       "      <th>smoking_ban</th>\n",
       "    </tr>\n",
       "  </thead>\n",
       "  <tbody>\n",
       "    <tr>\n",
       "      <th>604</th>\n",
       "      <td>Champaign County</td>\n",
       "      <td>Illinois</td>\n",
       "      <td>179669</td>\n",
       "      <td>201081</td>\n",
       "      <td>209399</td>\n",
       "      <td>1.83</td>\n",
       "      <td>21.4</td>\n",
       "      <td>55.9</td>\n",
       "      <td>35.2</td>\n",
       "      <td>4.24</td>\n",
       "      <td>yes</td>\n",
       "      <td>some_college</td>\n",
       "      <td>29619.49</td>\n",
       "      <td>49586</td>\n",
       "      <td>data unavailable</td>\n",
       "    </tr>\n",
       "  </tbody>\n",
       "</table>\n",
       "</div>"
      ],
      "text/plain": [
       "                 name     state pop2000  pop2010 pop2017 pop_change poverty  \\\n",
       "604  Champaign County  Illinois  179669   201081  209399       1.83    21.4   \n",
       "\n",
       "     homeownership  multi_unit unemployment_rate metro    median_edu  \\\n",
       "604           55.9        35.2              4.24   yes  some_college   \n",
       "\n",
       "    per_capita_income median_hh_income       smoking_ban  \n",
       "604          29619.49            49586  data unavailable  "
      ]
     },
     "execution_count": 27,
     "metadata": {},
     "output_type": "execute_result"
    }
   ],
   "source": [
    "champaign = county[(county['name'] == 'Champaign County')\n",
    "                  & (county['state'] == 'Illinois')]\n",
    "champaign"
   ]
  },
  {
   "cell_type": "markdown",
   "metadata": {},
   "source": [
    "#### 4.3. [1 pt] Calculate the proportion of counties in this dataset have a multi_unit rate that is at least as high as Champaign county's."
   ]
  },
  {
   "cell_type": "code",
   "execution_count": 36,
   "metadata": {},
   "outputs": [
    {
     "data": {
      "text/plain": [
       "(3142, 15)"
      ]
     },
     "execution_count": 36,
     "metadata": {},
     "output_type": "execute_result"
    }
   ],
   "source": [
    "county.shape"
   ]
  },
  {
   "cell_type": "code",
   "execution_count": 38,
   "metadata": {
    "scrolled": true
   },
   "outputs": [
    {
     "data": {
      "text/plain": [
       "(90, 15)"
      ]
     },
     "execution_count": 38,
     "metadata": {},
     "output_type": "execute_result"
    }
   ],
   "source": [
    "county[county['multi_unit'] >= champaign['multi_unit'].item()].shape"
   ]
  },
  {
   "cell_type": "code",
   "execution_count": 40,
   "metadata": {},
   "outputs": [
    {
     "data": {
      "text/plain": [
       "0.02864417568427753"
      ]
     },
     "execution_count": 40,
     "metadata": {},
     "output_type": "execute_result"
    }
   ],
   "source": [
    "proportion = 90/3142\n",
    "proportion"
   ]
  },
  {
   "cell_type": "markdown",
   "metadata": {},
   "source": [
    "### 5. Sample Analysis\n",
    "\n",
    "#### 5.1. [2 pt] Neighboring County Sample Creation\n",
    "Now create a dataframe that is just comprised of the five following Illinois counties:\n",
    "* Champaign\n",
    "* Vermilion\n",
    "* Ford\n",
    "* Piatt\n",
    "* Douglas\n",
    "\n",
    "Show this dataframe."
   ]
  },
  {
   "cell_type": "code",
   "execution_count": 44,
   "metadata": {},
   "outputs": [],
   "source": [
    "five_counties = county[county['name'].isin(['Champaign County', 'Vermilion County', 'Ford County', 'Piatt County', 'Douglas County'])]"
   ]
  },
  {
   "cell_type": "code",
   "execution_count": 45,
   "metadata": {},
   "outputs": [
    {
     "data": {
      "text/html": [
       "<div>\n",
       "<style scoped>\n",
       "    .dataframe tbody tr th:only-of-type {\n",
       "        vertical-align: middle;\n",
       "    }\n",
       "\n",
       "    .dataframe tbody tr th {\n",
       "        vertical-align: top;\n",
       "    }\n",
       "\n",
       "    .dataframe thead th {\n",
       "        text-align: right;\n",
       "    }\n",
       "</style>\n",
       "<table border=\"1\" class=\"dataframe\">\n",
       "  <thead>\n",
       "    <tr style=\"text-align: right;\">\n",
       "      <th></th>\n",
       "      <th>name</th>\n",
       "      <th>state</th>\n",
       "      <th>pop2000</th>\n",
       "      <th>pop2010</th>\n",
       "      <th>pop2017</th>\n",
       "      <th>pop_change</th>\n",
       "      <th>poverty</th>\n",
       "      <th>homeownership</th>\n",
       "      <th>multi_unit</th>\n",
       "      <th>unemployment_rate</th>\n",
       "      <th>metro</th>\n",
       "      <th>median_edu</th>\n",
       "      <th>per_capita_income</th>\n",
       "      <th>median_hh_income</th>\n",
       "      <th>smoking_ban</th>\n",
       "    </tr>\n",
       "  </thead>\n",
       "  <tbody>\n",
       "    <tr>\n",
       "      <th>262</th>\n",
       "      <td>Douglas County</td>\n",
       "      <td>Colorado</td>\n",
       "      <td>175766</td>\n",
       "      <td>285465</td>\n",
       "      <td>335299</td>\n",
       "      <td>9.59</td>\n",
       "      <td>3.6</td>\n",
       "      <td>82.5</td>\n",
       "      <td>14.9</td>\n",
       "      <td>2.39</td>\n",
       "      <td>yes</td>\n",
       "      <td>bachelors</td>\n",
       "      <td>48499.64</td>\n",
       "      <td>111154</td>\n",
       "      <td>partial</td>\n",
       "    </tr>\n",
       "    <tr>\n",
       "      <th>434</th>\n",
       "      <td>Douglas County</td>\n",
       "      <td>Georgia</td>\n",
       "      <td>92174</td>\n",
       "      <td>132403</td>\n",
       "      <td>143882</td>\n",
       "      <td>5.67</td>\n",
       "      <td>14.2</td>\n",
       "      <td>71.5</td>\n",
       "      <td>16.1</td>\n",
       "      <td>4.89</td>\n",
       "      <td>yes</td>\n",
       "      <td>some_college</td>\n",
       "      <td>24947.04</td>\n",
       "      <td>59333</td>\n",
       "      <td>partial</td>\n",
       "    </tr>\n",
       "    <tr>\n",
       "      <th>604</th>\n",
       "      <td>Champaign County</td>\n",
       "      <td>Illinois</td>\n",
       "      <td>179669</td>\n",
       "      <td>201081</td>\n",
       "      <td>209399</td>\n",
       "      <td>1.83</td>\n",
       "      <td>21.4</td>\n",
       "      <td>55.9</td>\n",
       "      <td>35.2</td>\n",
       "      <td>4.24</td>\n",
       "      <td>yes</td>\n",
       "      <td>some_college</td>\n",
       "      <td>29619.49</td>\n",
       "      <td>49586</td>\n",
       "      <td>data unavailable</td>\n",
       "    </tr>\n",
       "    <tr>\n",
       "      <th>615</th>\n",
       "      <td>Douglas County</td>\n",
       "      <td>Illinois</td>\n",
       "      <td>19922</td>\n",
       "      <td>19980</td>\n",
       "      <td>19748</td>\n",
       "      <td>-0.57</td>\n",
       "      <td>12.1</td>\n",
       "      <td>78.3</td>\n",
       "      <td>11.2</td>\n",
       "      <td>4.01</td>\n",
       "      <td>no</td>\n",
       "      <td>hs_diploma</td>\n",
       "      <td>25796.91</td>\n",
       "      <td>52261</td>\n",
       "      <td>partial</td>\n",
       "    </tr>\n",
       "    <tr>\n",
       "      <th>621</th>\n",
       "      <td>Ford County</td>\n",
       "      <td>Illinois</td>\n",
       "      <td>14241</td>\n",
       "      <td>14081</td>\n",
       "      <td>13280</td>\n",
       "      <td>-2.86</td>\n",
       "      <td>15.7</td>\n",
       "      <td>79.1</td>\n",
       "      <td>7.9</td>\n",
       "      <td>4.7</td>\n",
       "      <td>yes</td>\n",
       "      <td>some_college</td>\n",
       "      <td>27234.78</td>\n",
       "      <td>50851</td>\n",
       "      <td>none</td>\n",
       "    </tr>\n",
       "    <tr>\n",
       "      <th>668</th>\n",
       "      <td>Piatt County</td>\n",
       "      <td>Illinois</td>\n",
       "      <td>16365</td>\n",
       "      <td>16729</td>\n",
       "      <td>16445</td>\n",
       "      <td>0.09</td>\n",
       "      <td>5.4</td>\n",
       "      <td>81.7</td>\n",
       "      <td>7.5</td>\n",
       "      <td>3.99</td>\n",
       "      <td>yes</td>\n",
       "      <td>some_college</td>\n",
       "      <td>33598.78</td>\n",
       "      <td>67360</td>\n",
       "      <td>data unavailable</td>\n",
       "    </tr>\n",
       "    <tr>\n",
       "      <th>686</th>\n",
       "      <td>Vermilion County</td>\n",
       "      <td>Illinois</td>\n",
       "      <td>83919</td>\n",
       "      <td>81625</td>\n",
       "      <td>77909</td>\n",
       "      <td>-3.31</td>\n",
       "      <td>19.8</td>\n",
       "      <td>71.3</td>\n",
       "      <td>14.5</td>\n",
       "      <td>6.29</td>\n",
       "      <td>yes</td>\n",
       "      <td>hs_diploma</td>\n",
       "      <td>23759.02</td>\n",
       "      <td>44930</td>\n",
       "      <td>data unavailable</td>\n",
       "    </tr>\n",
       "    <tr>\n",
       "      <th>910</th>\n",
       "      <td>Douglas County</td>\n",
       "      <td>Kansas</td>\n",
       "      <td>99962</td>\n",
       "      <td>110826</td>\n",
       "      <td>120793</td>\n",
       "      <td>5.45</td>\n",
       "      <td>18.7</td>\n",
       "      <td>53.5</td>\n",
       "      <td>32.0</td>\n",
       "      <td>3.16</td>\n",
       "      <td>yes</td>\n",
       "      <td>some_college</td>\n",
       "      <td>30301.65</td>\n",
       "      <td>54370</td>\n",
       "      <td>partial</td>\n",
       "    </tr>\n",
       "    <tr>\n",
       "      <th>916</th>\n",
       "      <td>Ford County</td>\n",
       "      <td>Kansas</td>\n",
       "      <td>32458</td>\n",
       "      <td>33848</td>\n",
       "      <td>34381</td>\n",
       "      <td>-1.59</td>\n",
       "      <td>16.2</td>\n",
       "      <td>68.3</td>\n",
       "      <td>18.6</td>\n",
       "      <td>2.79</td>\n",
       "      <td>no</td>\n",
       "      <td>hs_diploma</td>\n",
       "      <td>21602.33</td>\n",
       "      <td>49890</td>\n",
       "      <td>none</td>\n",
       "    </tr>\n",
       "    <tr>\n",
       "      <th>1334</th>\n",
       "      <td>Douglas County</td>\n",
       "      <td>Minnesota</td>\n",
       "      <td>32821</td>\n",
       "      <td>36009</td>\n",
       "      <td>37575</td>\n",
       "      <td>3.4</td>\n",
       "      <td>8.4</td>\n",
       "      <td>76.1</td>\n",
       "      <td>14.3</td>\n",
       "      <td>3.19</td>\n",
       "      <td>no</td>\n",
       "      <td>some_college</td>\n",
       "      <td>34052.89</td>\n",
       "      <td>58667</td>\n",
       "      <td>partial</td>\n",
       "    </tr>\n",
       "    <tr>\n",
       "      <th>1516</th>\n",
       "      <td>Douglas County</td>\n",
       "      <td>Missouri</td>\n",
       "      <td>13084</td>\n",
       "      <td>13684</td>\n",
       "      <td>13300</td>\n",
       "      <td>-1.01</td>\n",
       "      <td>20.6</td>\n",
       "      <td>82.0</td>\n",
       "      <td>5.5</td>\n",
       "      <td>4.73</td>\n",
       "      <td>no</td>\n",
       "      <td>hs_diploma</td>\n",
       "      <td>17574.22</td>\n",
       "      <td>33003</td>\n",
       "      <td>partial</td>\n",
       "    </tr>\n",
       "    <tr>\n",
       "      <th>1681</th>\n",
       "      <td>Douglas County</td>\n",
       "      <td>Nebraska</td>\n",
       "      <td>463585</td>\n",
       "      <td>517110</td>\n",
       "      <td>561620</td>\n",
       "      <td>4.48</td>\n",
       "      <td>13.5</td>\n",
       "      <td>64.4</td>\n",
       "      <td>26.9</td>\n",
       "      <td>3.18</td>\n",
       "      <td>yes</td>\n",
       "      <td>some_college</td>\n",
       "      <td>32139.84</td>\n",
       "      <td>58640</td>\n",
       "      <td>partial</td>\n",
       "    </tr>\n",
       "    <tr>\n",
       "      <th>1749</th>\n",
       "      <td>Douglas County</td>\n",
       "      <td>Nevada</td>\n",
       "      <td>41259</td>\n",
       "      <td>46997</td>\n",
       "      <td>48309</td>\n",
       "      <td>2.85</td>\n",
       "      <td>9.8</td>\n",
       "      <td>76.2</td>\n",
       "      <td>11.4</td>\n",
       "      <td>4.8</td>\n",
       "      <td>no</td>\n",
       "      <td>some_college</td>\n",
       "      <td>35501.29</td>\n",
       "      <td>61176</td>\n",
       "      <td>partial</td>\n",
       "    </tr>\n",
       "    <tr>\n",
       "      <th>2053</th>\n",
       "      <td>Champaign County</td>\n",
       "      <td>Ohio</td>\n",
       "      <td>38890</td>\n",
       "      <td>40097</td>\n",
       "      <td>38840</td>\n",
       "      <td>-1.54</td>\n",
       "      <td>11.1</td>\n",
       "      <td>75.3</td>\n",
       "      <td>14.7</td>\n",
       "      <td>4.16</td>\n",
       "      <td>no</td>\n",
       "      <td>hs_diploma</td>\n",
       "      <td>25704.8</td>\n",
       "      <td>54495</td>\n",
       "      <td>data unavailable</td>\n",
       "    </tr>\n",
       "    <tr>\n",
       "      <th>2217</th>\n",
       "      <td>Douglas County</td>\n",
       "      <td>Oregon</td>\n",
       "      <td>100399</td>\n",
       "      <td>107667</td>\n",
       "      <td>109405</td>\n",
       "      <td>2.67</td>\n",
       "      <td>17</td>\n",
       "      <td>70.6</td>\n",
       "      <td>12.1</td>\n",
       "      <td>5.35</td>\n",
       "      <td>no</td>\n",
       "      <td>some_college</td>\n",
       "      <td>25122.46</td>\n",
       "      <td>44023</td>\n",
       "      <td>partial</td>\n",
       "    </tr>\n",
       "    <tr>\n",
       "      <th>2382</th>\n",
       "      <td>Douglas County</td>\n",
       "      <td>South Dakota</td>\n",
       "      <td>3458</td>\n",
       "      <td>3002</td>\n",
       "      <td>2931</td>\n",
       "      <td>-1.51</td>\n",
       "      <td>8.2</td>\n",
       "      <td>77.1</td>\n",
       "      <td>7.4</td>\n",
       "      <td>2.96</td>\n",
       "      <td>no</td>\n",
       "      <td>some_college</td>\n",
       "      <td>29843.95</td>\n",
       "      <td>52543</td>\n",
       "      <td>partial</td>\n",
       "    </tr>\n",
       "    <tr>\n",
       "      <th>2961</th>\n",
       "      <td>Douglas County</td>\n",
       "      <td>Washington</td>\n",
       "      <td>32603</td>\n",
       "      <td>38431</td>\n",
       "      <td>41945</td>\n",
       "      <td>6.36</td>\n",
       "      <td>13.7</td>\n",
       "      <td>71.9</td>\n",
       "      <td>13.5</td>\n",
       "      <td>5.71</td>\n",
       "      <td>yes</td>\n",
       "      <td>some_college</td>\n",
       "      <td>24897.08</td>\n",
       "      <td>55805</td>\n",
       "      <td>partial</td>\n",
       "    </tr>\n",
       "    <tr>\n",
       "      <th>3062</th>\n",
       "      <td>Douglas County</td>\n",
       "      <td>Wisconsin</td>\n",
       "      <td>43287</td>\n",
       "      <td>44159</td>\n",
       "      <td>43284</td>\n",
       "      <td>-1.03</td>\n",
       "      <td>14.2</td>\n",
       "      <td>69.8</td>\n",
       "      <td>20.1</td>\n",
       "      <td>4.48</td>\n",
       "      <td>yes</td>\n",
       "      <td>some_college</td>\n",
       "      <td>28146.02</td>\n",
       "      <td>50730</td>\n",
       "      <td>partial</td>\n",
       "    </tr>\n",
       "  </tbody>\n",
       "</table>\n",
       "</div>"
      ],
      "text/plain": [
       "                  name         state pop2000  pop2010 pop2017 pop_change  \\\n",
       "262     Douglas County      Colorado  175766   285465  335299       9.59   \n",
       "434     Douglas County       Georgia   92174   132403  143882       5.67   \n",
       "604   Champaign County      Illinois  179669   201081  209399       1.83   \n",
       "615     Douglas County      Illinois   19922    19980   19748      -0.57   \n",
       "621        Ford County      Illinois   14241    14081   13280      -2.86   \n",
       "668       Piatt County      Illinois   16365    16729   16445       0.09   \n",
       "686   Vermilion County      Illinois   83919    81625   77909      -3.31   \n",
       "910     Douglas County        Kansas   99962   110826  120793       5.45   \n",
       "916        Ford County        Kansas   32458    33848   34381      -1.59   \n",
       "1334    Douglas County     Minnesota   32821    36009   37575        3.4   \n",
       "1516    Douglas County      Missouri   13084    13684   13300      -1.01   \n",
       "1681    Douglas County      Nebraska  463585   517110  561620       4.48   \n",
       "1749    Douglas County        Nevada   41259    46997   48309       2.85   \n",
       "2053  Champaign County          Ohio   38890    40097   38840      -1.54   \n",
       "2217    Douglas County        Oregon  100399   107667  109405       2.67   \n",
       "2382    Douglas County  South Dakota    3458     3002    2931      -1.51   \n",
       "2961    Douglas County    Washington   32603    38431   41945       6.36   \n",
       "3062    Douglas County     Wisconsin   43287    44159   43284      -1.03   \n",
       "\n",
       "     poverty  homeownership  multi_unit unemployment_rate metro    median_edu  \\\n",
       "262      3.6           82.5        14.9              2.39   yes     bachelors   \n",
       "434     14.2           71.5        16.1              4.89   yes  some_college   \n",
       "604     21.4           55.9        35.2              4.24   yes  some_college   \n",
       "615     12.1           78.3        11.2              4.01    no    hs_diploma   \n",
       "621     15.7           79.1         7.9               4.7   yes  some_college   \n",
       "668      5.4           81.7         7.5              3.99   yes  some_college   \n",
       "686     19.8           71.3        14.5              6.29   yes    hs_diploma   \n",
       "910     18.7           53.5        32.0              3.16   yes  some_college   \n",
       "916     16.2           68.3        18.6              2.79    no    hs_diploma   \n",
       "1334     8.4           76.1        14.3              3.19    no  some_college   \n",
       "1516    20.6           82.0         5.5              4.73    no    hs_diploma   \n",
       "1681    13.5           64.4        26.9              3.18   yes  some_college   \n",
       "1749     9.8           76.2        11.4               4.8    no  some_college   \n",
       "2053    11.1           75.3        14.7              4.16    no    hs_diploma   \n",
       "2217      17           70.6        12.1              5.35    no  some_college   \n",
       "2382     8.2           77.1         7.4              2.96    no  some_college   \n",
       "2961    13.7           71.9        13.5              5.71   yes  some_college   \n",
       "3062    14.2           69.8        20.1              4.48   yes  some_college   \n",
       "\n",
       "     per_capita_income median_hh_income       smoking_ban  \n",
       "262           48499.64           111154           partial  \n",
       "434           24947.04            59333           partial  \n",
       "604           29619.49            49586  data unavailable  \n",
       "615           25796.91            52261           partial  \n",
       "621           27234.78            50851              none  \n",
       "668           33598.78            67360  data unavailable  \n",
       "686           23759.02            44930  data unavailable  \n",
       "910           30301.65            54370           partial  \n",
       "916           21602.33            49890              none  \n",
       "1334          34052.89            58667           partial  \n",
       "1516          17574.22            33003           partial  \n",
       "1681          32139.84            58640           partial  \n",
       "1749          35501.29            61176           partial  \n",
       "2053           25704.8            54495  data unavailable  \n",
       "2217          25122.46            44023           partial  \n",
       "2382          29843.95            52543           partial  \n",
       "2961          24897.08            55805           partial  \n",
       "3062          28146.02            50730           partial  "
      ]
     },
     "execution_count": 45,
     "metadata": {},
     "output_type": "execute_result"
    }
   ],
   "source": [
    "five_counties"
   ]
  },
  {
   "cell_type": "markdown",
   "metadata": {},
   "source": [
    "#### 5.2. [1 pt] Calculate the mean multi_unit rate of this sample of five counties that you created in 5.1."
   ]
  },
  {
   "cell_type": "code",
   "execution_count": 46,
   "metadata": {},
   "outputs": [
    {
     "data": {
      "text/plain": [
       "15.766666666666671"
      ]
     },
     "execution_count": 46,
     "metadata": {},
     "output_type": "execute_result"
    }
   ],
   "source": [
    "five_counties['multi_unit'].mean()"
   ]
  },
  {
   "cell_type": "markdown",
   "metadata": {},
   "source": [
    "### 6. Sampling Distribution\n",
    "\n",
    "#### 6.1. [3 pt] Sampling Distribution Creation\n",
    "\n",
    "Consider the entire dataframe of counties (from counties.csv) to be a population. From this population, create a **sampling distribution** of **sample mean multi_unit rates** with the following specifications:\n",
    "* all of the samples collected should be of size $n=5$\n",
    "* your sampling distribution should be comprised of 5000 sample means."
   ]
  },
  {
   "cell_type": "code",
   "execution_count": 47,
   "metadata": {},
   "outputs": [],
   "source": [
    "x = 'multi_unit'\n",
    "n = 5\n",
    "SampleMeans = []\n",
    "for i in range(5000):\n",
    "    rand_sample = county[x].sample(n, replace=True)\n",
    "    rand_sample_mean = rand_sample.mean()\n",
    "    SampleMeans.append(rand_sample_mean)"
   ]
  },
  {
   "cell_type": "code",
   "execution_count": 54,
   "metadata": {},
   "outputs": [],
   "source": [
    "multi_unit_sample = pd.DataFrame({x: SampleMeans})"
   ]
  },
  {
   "cell_type": "markdown",
   "metadata": {},
   "source": [
    "#### 6.2. [2 pt] Sampling Distribution Mean and Standard Deviation\n",
    "\n",
    "Calculate the mean and standard deviation of this sampling distribution of sample means that you just created in 6.1."
   ]
  },
  {
   "cell_type": "code",
   "execution_count": 56,
   "metadata": {},
   "outputs": [
    {
     "data": {
      "text/plain": [
       "12.338828000000014"
      ]
     },
     "execution_count": 56,
     "metadata": {},
     "output_type": "execute_result"
    }
   ],
   "source": [
    "multi_unit_sample['multi_unit'].mean()"
   ]
  },
  {
   "cell_type": "code",
   "execution_count": 58,
   "metadata": {},
   "outputs": [
    {
     "data": {
      "text/plain": [
       "4.177883929603823"
      ]
     },
     "execution_count": 58,
     "metadata": {},
     "output_type": "execute_result"
    }
   ],
   "source": [
    "multi_unit_sample['multi_unit'].std()"
   ]
  },
  {
   "cell_type": "markdown",
   "metadata": {},
   "source": [
    "#### 6.3. [1.5 pt] Sampling Distribution Histogram\n",
    "\n",
    "Create a histogram of this sampling distribution of sample means that you just created in 6.1."
   ]
  },
  {
   "cell_type": "code",
   "execution_count": 60,
   "metadata": {},
   "outputs": [
    {
     "data": {
      "image/png": "[encoded data removed]",
      "text/plain": [
       "<Figure size 432x288 with 1 Axes>"
      ]
     },
     "metadata": {
      "needs_background": "light"
     },
     "output_type": "display_data"
    }
   ],
   "source": [
    "multi_unit_sample['multi_unit'].hist(density=True)\n",
    "plt.title('Sampling Distribution (n=5)')\n",
    "plt.xlabel('Sample Mean Enrollment of Samples (of size n=5) \\n Drawn from sectdf Population with Replacement')\n",
    "plt.show()"
   ]
  },
  {
   "cell_type": "markdown",
   "metadata": {},
   "source": [
    "#### 6.4. [1.5 pt] What percent of sample mean multi_unit rates in this sampling distribution are at least as large as the mean multi_unit rate of Champaign and it's four neighboring counties (calculated in 5.2)?"
   ]
  },
  {
   "cell_type": "code",
   "execution_count": 64,
   "metadata": {},
   "outputs": [
    {
     "data": {
      "text/plain": [
       "(931, 1)"
      ]
     },
     "execution_count": 64,
     "metadata": {},
     "output_type": "execute_result"
    }
   ],
   "source": [
    "multi_unit_sample[multi_unit_sample['multi_unit'] >= five_counties['multi_unit'].mean()].shape\n",
    "\n"
   ]
  },
  {
   "cell_type": "code",
   "execution_count": 65,
   "metadata": {
    "scrolled": true
   },
   "outputs": [
    {
     "data": {
      "text/plain": [
       "(5000, 1)"
      ]
     },
     "execution_count": 65,
     "metadata": {},
     "output_type": "execute_result"
    }
   ],
   "source": [
    "multi_unit_sample.shape"
   ]
  },
  {
   "cell_type": "code",
   "execution_count": 66,
   "metadata": {},
   "outputs": [],
   "source": [
    "percentage = 931/5000"
   ]
  },
  {
   "cell_type": "markdown",
   "metadata": {},
   "source": [
    "#### 6.5. Which is more unusually high:\n",
    "* the multi_unit rate of Champaign county,\n",
    "* or the average multi_unit rate of Champaign county and it's four neighboring counties?\n",
    "\n",
    "#### Explain."
   ]
  },
  {
   "cell_type": "markdown",
   "metadata": {},
   "source": [
    "The multi_unit rate of Champaign county will be higher because the multi-unit of Champaign is 35.2, which is much higher than other multi_unit rate of the other four neighboring countries."
   ]
  },
  {
   "cell_type": "markdown",
   "metadata": {},
   "source": []
  }
 ],
 "metadata": {
  "kernelspec": {
   "display_name": "Python 3",
   "language": "python",
   "name": "python3"
  },
  "language_info": {
   "codemirror_mode": {
    "name": "ipython",
    "version": 3
   },
   "file_extension": ".py",
   "mimetype": "text/x-python",
   "name": "python",
   "nbconvert_exporter": "python",
   "pygments_lexer": "ipython3",
   "version": "3.8.8"
  }
 },
 "nbformat": 4,
 "nbformat_minor": 2
}
