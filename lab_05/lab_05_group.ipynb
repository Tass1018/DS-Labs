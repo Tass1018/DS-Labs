{
 "cells": [
  {
   "cell_type": "markdown",
   "metadata": {},
   "source": [
    "# STAT 207 Lab 5 - Group Part - [5 total points] - Solutions\n",
    "\n",
    "## Confidence Intervals"
   ]
  },
  {
   "cell_type": "markdown",
   "metadata": {},
   "source": [
    "Due: Tuesday, September 28, 11:59pm CST\n",
    "\n",
    "## <u>Case Study</u>: Former STAT107 Student Analysis"
   ]
  },
  {
   "cell_type": "code",
   "execution_count": 13,
   "metadata": {},
   "outputs": [],
   "source": [
    "#imports here\n",
    "import pandas as pd\n",
    "import numpy as np\n",
    "import matplotlib.pyplot as plt\n",
    "import seaborn as sns; sns.set()\n",
    "import random\n",
    "from scipy.stats import norm"
   ]
  },
  {
   "cell_type": "markdown",
   "metadata": {},
   "source": [
    "### Motivation\n",
    "Starting next Fall, STAT107 and STAT207 (as well as other courses) will count as requirements towards a brand new suite of majors that we are calling \"X+Data Science\" majors. Thus, we in the statistics department are interested to learn more about the type of students that enroll in courses like STAT107. In the previous four semesters, 497 students enrolled in STAT107. Rather than track down and ask each of these 497 students questions, we will use the students in *this lab section* (who have presumably taken STAT107) in an attempt to learn more about the larger population of **all students who have taken STAT107 in the last four semesters**.\n",
    "\n",
    "<hr>\n",
    "\n",
    "### <u>Part 1</u>:  [1 pt] Create and Conduct a Survey\n",
    "\n",
    "#### 1.1. Create a research question that *you* would be interested in asking all former STAT107 students (from the last four semesters).\n",
    "   *  <u>Option 1</u>: Create a question that has a numerical response, for instance: \"How many UIUC games have you attended so far?\"\n",
    "   * <u>Option 2</u>: Create a question that has a categorical response (with just two answers), for instance, \"Are you team Jacob or team Edward?\"\n",
    "\n",
    "**<u>Note</u>: Don't use these example questions. You should come up with your own.**\n",
    "\n",
    "**<u>Note</u>: If you were not able to attend the lab, then you can pretend that you asked the students in your lab this question: \"Are you a sophomore?\"**\n",
    "\n",
    "Write your question below."
   ]
  },
  {
   "cell_type": "markdown",
   "metadata": {},
   "source": [
    "Question: How many 100 courses have you taken? "
   ]
  },
  {
   "cell_type": "markdown",
   "metadata": {},
   "source": []
  },
  {
   "cell_type": "markdown",
   "metadata": {},
   "source": [
    "#### 1.2. Then, ask your question to 6 randomly selected students in this lab section and record your answers. Put these six responses in a dataframe.\n",
    "\n",
    "*To ensure that your sample of students in this lab is random, see Yuhan or the course assistants for your random sample.*\n",
    "\n",
    "**<u>Note</u>: If you were not able to attend the lab, then here is a random sample of six students from the class and their answers to your question (that I found out from the class roster page): ['no','no','no','no','yes','no']**\n",
    "<hr>"
   ]
  },
  {
   "cell_type": "code",
   "execution_count": 7,
   "metadata": {},
   "outputs": [
    {
     "data": {
      "text/html": [
       "<div>\n",
       "<style scoped>\n",
       "    .dataframe tbody tr th:only-of-type {\n",
       "        vertical-align: middle;\n",
       "    }\n",
       "\n",
       "    .dataframe tbody tr th {\n",
       "        vertical-align: top;\n",
       "    }\n",
       "\n",
       "    .dataframe thead th {\n",
       "        text-align: right;\n",
       "    }\n",
       "</style>\n",
       "<table border=\"1\" class=\"dataframe\">\n",
       "  <thead>\n",
       "    <tr style=\"text-align: right;\">\n",
       "      <th></th>\n",
       "      <th>Name</th>\n",
       "      <th>Number</th>\n",
       "    </tr>\n",
       "  </thead>\n",
       "  <tbody>\n",
       "    <tr>\n",
       "      <th>0</th>\n",
       "      <td>John</td>\n",
       "      <td>3</td>\n",
       "    </tr>\n",
       "    <tr>\n",
       "      <th>1</th>\n",
       "      <td>Salman</td>\n",
       "      <td>5</td>\n",
       "    </tr>\n",
       "    <tr>\n",
       "      <th>2</th>\n",
       "      <td>Jathin</td>\n",
       "      <td>5</td>\n",
       "    </tr>\n",
       "    <tr>\n",
       "      <th>3</th>\n",
       "      <td>Aakanksha</td>\n",
       "      <td>2</td>\n",
       "    </tr>\n",
       "    <tr>\n",
       "      <th>4</th>\n",
       "      <td>Jier</td>\n",
       "      <td>1</td>\n",
       "    </tr>\n",
       "    <tr>\n",
       "      <th>5</th>\n",
       "      <td>Linfeng</td>\n",
       "      <td>4</td>\n",
       "    </tr>\n",
       "  </tbody>\n",
       "</table>\n",
       "</div>"
      ],
      "text/plain": [
       "        Name  Number\n",
       "0       John       3\n",
       "1     Salman       5\n",
       "2     Jathin       5\n",
       "3  Aakanksha       2\n",
       "4       Jier       1\n",
       "5    Linfeng       4"
      ]
     },
     "execution_count": 7,
     "metadata": {},
     "output_type": "execute_result"
    }
   ],
   "source": [
    "df = pd.DataFrame({'Name':['John', 'Salman', 'Jathin', 'Aakanksha', 'Jier', 'Linfeng'],\n",
    "                   'Number':[3,5, 5, 2, 1, 4]})\n",
    "df"
   ]
  },
  {
   "cell_type": "code",
   "execution_count": null,
   "metadata": {},
   "outputs": [],
   "source": []
  },
  {
   "cell_type": "markdown",
   "metadata": {},
   "source": [
    "<hr>\n",
    "\n",
    "### <u> Part 2</u>: [1 pt] Calculate Sample Statistics\n",
    "\n",
    "Then, using your sample that you just collected do one of the following.\n",
    "\n",
    "**a. If your sample is comprised of numerical data:**\n",
    "\n",
    "    * calculate the sample mean\n",
    "    * calculate the sample standard deviation\n",
    "    * plot the histogram of the numerical values in your sample\n",
    "    \n",
    "**b. If your sample is comprised of categorical data:**\n",
    "\n",
    "    * calculate the proportion of observations in the sample that are of a particular value that you are interested in."
   ]
  },
  {
   "cell_type": "code",
   "execution_count": 9,
   "metadata": {},
   "outputs": [
    {
     "data": {
      "text/plain": [
       "Number    3.333333\n",
       "dtype: float64"
      ]
     },
     "execution_count": 9,
     "metadata": {},
     "output_type": "execute_result"
    }
   ],
   "source": [
    "mean = df.mean()\n",
    "mean"
   ]
  },
  {
   "cell_type": "code",
   "execution_count": 10,
   "metadata": {},
   "outputs": [
    {
     "data": {
      "text/plain": [
       "Number    1.632993\n",
       "dtype: float64"
      ]
     },
     "execution_count": 10,
     "metadata": {},
     "output_type": "execute_result"
    }
   ],
   "source": [
    "std = df.std()\n",
    "std"
   ]
  },
  {
   "cell_type": "code",
   "execution_count": 12,
   "metadata": {},
   "outputs": [
    {
     "data": {
      "text/plain": [
       "Text(0.5, 1.0, 'Sample Distribution of how many 100 courses taken')"
      ]
     },
     "execution_count": 12,
     "metadata": {},
     "output_type": "execute_result"
    },
    {
     "data": {
      "image/png": "[encoded data removed]",
      "text/plain": [
       "<Figure size 432x288 with 1 Axes>"
      ]
     },
     "metadata": {},
     "output_type": "display_data"
    }
   ],
   "source": [
    "df.hist()\n",
    "plt.title('Sample Distribution of how many 100 courses taken')"
   ]
  },
  {
   "cell_type": "code",
   "execution_count": null,
   "metadata": {},
   "outputs": [],
   "source": []
  },
  {
   "cell_type": "markdown",
   "metadata": {},
   "source": [
    "<hr>\n",
    "\n",
    "### <u>Part 3</u>: [2.5 pt] Create a Confidence Interval\n",
    "\n",
    "Finally, using this sample we would like to create a plausible range of values for a **mean value** or **proportion value** corresponding to all students who took STAT107 in the last four semesters. Specifically, we will create a 90% confidence interval for this **population parameter**.\n",
    "   *  For instance, if you asked six students in this lab \"How many UIUC games have you attended so far?\", then you should create a 90% confidence interval for the **average** number of games that **all former STAT107 students (from the last four semesters) have attended.**\n",
    "   *  For instance, if you asked six students in this lab \"Are you team Jacob or team Edward?\", then you should create a 90% confidence interval for the **proportion** of **all former STAT107 students (from the last four semesters)** that are a **team Jacob.**\n",
    "   \n",
    "   \n",
    "Make sure you check the appropriate corresponding Central Limit Theorem conditions needed in order to create this confidence inteval. *If you find that not all of these conditions are met, then you should \"proceed with caution\". This means that you should still create this confidence interval (for the purpose of this assignment), but knowing that the conclusions that we are drawing from this confidence interval may not be completely accurate.*\n",
    "\n",
    "<hr>"
   ]
  },
  {
   "cell_type": "markdown",
   "metadata": {},
   "source": []
  },
  {
   "cell_type": "code",
   "execution_count": 14,
   "metadata": {},
   "outputs": [
    {
     "data": {
      "text/plain": [
       "1.6448536269514722"
      ]
     },
     "execution_count": 14,
     "metadata": {},
     "output_type": "execute_result"
    }
   ],
   "source": [
    "critical_value=norm.ppf(0.95)\n",
    "critical_value"
   ]
  },
  {
   "cell_type": "code",
   "execution_count": 18,
   "metadata": {},
   "outputs": [],
   "source": [
    "lower_bound=mean-critical_value*(std/np.sqrt(6))\n",
    "upper_bound=mean+critical_value*(std/np.sqrt(6))"
   ]
  },
  {
   "cell_type": "code",
   "execution_count": 19,
   "metadata": {},
   "outputs": [
    {
     "data": {
      "text/plain": [
       "Number    2.236764\n",
       "dtype: float64"
      ]
     },
     "execution_count": 19,
     "metadata": {},
     "output_type": "execute_result"
    }
   ],
   "source": [
    "lower_bound"
   ]
  },
  {
   "cell_type": "code",
   "execution_count": 20,
   "metadata": {},
   "outputs": [
    {
     "data": {
      "text/plain": [
       "Number    4.429902\n",
       "dtype: float64"
      ]
     },
     "execution_count": 20,
     "metadata": {},
     "output_type": "execute_result"
    }
   ],
   "source": [
    "upper_bound"
   ]
  },
  {
   "cell_type": "markdown",
   "metadata": {},
   "source": [
    "### <u>Part 4</u>: [0.5 pt] Confidence Interval Interpretation\n",
    "\n",
    "Put your confidence interval into words."
   ]
  },
  {
   "cell_type": "markdown",
   "metadata": {},
   "source": [
    "We are 90% confident that the number of 100 courses that students have taken is between 2.24 and 4.43."
   ]
  },
  {
   "cell_type": "markdown",
   "metadata": {},
   "source": []
  },
  {
   "cell_type": "markdown",
   "metadata": {},
   "source": [
    "### <u>Contribution Report</u>:"
   ]
  },
  {
   "cell_type": "markdown",
   "metadata": {},
   "source": []
  }
 ],
 "metadata": {
  "kernelspec": {
   "display_name": "Python 3",
   "language": "python",
   "name": "python3"
  },
  "language_info": {
   "codemirror_mode": {
    "name": "ipython",
    "version": 3
   },
   "file_extension": ".py",
   "mimetype": "text/x-python",
   "name": "python",
   "nbconvert_exporter": "python",
   "pygments_lexer": "ipython3",
   "version": "3.8.8"
  }
 },
 "nbformat": 4,
 "nbformat_minor": 2
}
