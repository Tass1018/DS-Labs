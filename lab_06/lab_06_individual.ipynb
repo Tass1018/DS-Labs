{
 "cells": [
  {
   "cell_type": "markdown",
   "metadata": {},
   "source": [
    "# STAT 207 Lab 6 - Individual Part - [25 total points]\n",
    "\n",
    "## Hypothesis Testing and Z-Scores"
   ]
  },
  {
   "cell_type": "markdown",
   "metadata": {},
   "source": [
    "Due: Tuesday, October 5 11:59pm CST\n",
    "\n",
    "\n",
    "\n",
    "## <u>Case Studies</u>: U.S. County Unemployment Rate and Median Education Levels\n",
    "In this lab we will explore the statistical concepts that we've learned this week while also examining the **unemployment rates** and the **median education levels** of the counties in the U.S.\n",
    "\n",
    "**We will be expanding upon results that we discovered in lab_05_individual.ipynb. Thus, referencing your code and analyses from this lab_05 and the solutions (which are now posted) will be useful!**"
   ]
  },
  {
   "cell_type": "markdown",
   "metadata": {},
   "source": [
    "### Imports"
   ]
  },
  {
   "cell_type": "code",
   "execution_count": 99,
   "metadata": {},
   "outputs": [],
   "source": [
    "import pandas as pd\n",
    "import numpy as np\n",
    "import matplotlib.pyplot as plt\n",
    "import seaborn as sns; sns.set()\n",
    "import random\n",
    "from scipy.stats import norm\n",
    "from statistics import mean"
   ]
  },
  {
   "cell_type": "markdown",
   "metadata": {},
   "source": [
    "### 1. [0.25 pt] Data Processing and Cleaning\n",
    "\n",
    "We will be analyzing the same two variables that we did in lab_05_individual.ipynb. So you can re-use the same code as before.\n",
    "\n",
    "1. Read the county.csv into a dataframe, call it df, and display the first five rows.\n",
    " - *This dataset has missing values! Specifically, the phrase 'data unavailable' represents missing values in this csv. Make sure you encode these values as NaN when you read the data in.*\n",
    "2. Create a pandas dataframe that is comprised of just the unemployment rate and the median_edu columns. Then drop all rows in this dataframe that have missing values."
   ]
  },
  {
   "cell_type": "code",
   "execution_count": 100,
   "metadata": {},
   "outputs": [
    {
     "data": {
      "text/html": [
       "<div>\n",
       "<style scoped>\n",
       "    .dataframe tbody tr th:only-of-type {\n",
       "        vertical-align: middle;\n",
       "    }\n",
       "\n",
       "    .dataframe tbody tr th {\n",
       "        vertical-align: top;\n",
       "    }\n",
       "\n",
       "    .dataframe thead th {\n",
       "        text-align: right;\n",
       "    }\n",
       "</style>\n",
       "<table border=\"1\" class=\"dataframe\">\n",
       "  <thead>\n",
       "    <tr style=\"text-align: right;\">\n",
       "      <th></th>\n",
       "      <th>name</th>\n",
       "      <th>state</th>\n",
       "      <th>pop2000</th>\n",
       "      <th>pop2010</th>\n",
       "      <th>pop2017</th>\n",
       "      <th>pop_change</th>\n",
       "      <th>poverty</th>\n",
       "      <th>homeownership</th>\n",
       "      <th>multi_unit</th>\n",
       "      <th>unemployment_rate</th>\n",
       "      <th>metro</th>\n",
       "      <th>median_edu</th>\n",
       "      <th>per_capita_income</th>\n",
       "      <th>median_hh_income</th>\n",
       "      <th>smoking_ban</th>\n",
       "    </tr>\n",
       "  </thead>\n",
       "  <tbody>\n",
       "    <tr>\n",
       "      <th>0</th>\n",
       "      <td>Autauga County</td>\n",
       "      <td>Alabama</td>\n",
       "      <td>43671.0</td>\n",
       "      <td>54571</td>\n",
       "      <td>55504.0</td>\n",
       "      <td>1.48</td>\n",
       "      <td>13.7</td>\n",
       "      <td>77.5</td>\n",
       "      <td>7.2</td>\n",
       "      <td>3.86</td>\n",
       "      <td>yes</td>\n",
       "      <td>some_college</td>\n",
       "      <td>27841.70</td>\n",
       "      <td>55317.0</td>\n",
       "      <td>none</td>\n",
       "    </tr>\n",
       "    <tr>\n",
       "      <th>1</th>\n",
       "      <td>Baldwin County</td>\n",
       "      <td>Alabama</td>\n",
       "      <td>140415.0</td>\n",
       "      <td>182265</td>\n",
       "      <td>212628.0</td>\n",
       "      <td>9.19</td>\n",
       "      <td>11.8</td>\n",
       "      <td>76.7</td>\n",
       "      <td>22.6</td>\n",
       "      <td>3.99</td>\n",
       "      <td>yes</td>\n",
       "      <td>some_college</td>\n",
       "      <td>27779.85</td>\n",
       "      <td>52562.0</td>\n",
       "      <td>none</td>\n",
       "    </tr>\n",
       "    <tr>\n",
       "      <th>2</th>\n",
       "      <td>Barbour County</td>\n",
       "      <td>Alabama</td>\n",
       "      <td>29038.0</td>\n",
       "      <td>27457</td>\n",
       "      <td>25270.0</td>\n",
       "      <td>-6.22</td>\n",
       "      <td>27.2</td>\n",
       "      <td>68.0</td>\n",
       "      <td>11.1</td>\n",
       "      <td>5.90</td>\n",
       "      <td>no</td>\n",
       "      <td>hs_diploma</td>\n",
       "      <td>17891.73</td>\n",
       "      <td>33368.0</td>\n",
       "      <td>partial</td>\n",
       "    </tr>\n",
       "    <tr>\n",
       "      <th>3</th>\n",
       "      <td>Bibb County</td>\n",
       "      <td>Alabama</td>\n",
       "      <td>20826.0</td>\n",
       "      <td>22915</td>\n",
       "      <td>22668.0</td>\n",
       "      <td>0.73</td>\n",
       "      <td>15.2</td>\n",
       "      <td>82.9</td>\n",
       "      <td>6.6</td>\n",
       "      <td>4.39</td>\n",
       "      <td>yes</td>\n",
       "      <td>hs_diploma</td>\n",
       "      <td>20572.05</td>\n",
       "      <td>43404.0</td>\n",
       "      <td>none</td>\n",
       "    </tr>\n",
       "    <tr>\n",
       "      <th>4</th>\n",
       "      <td>Blount County</td>\n",
       "      <td>Alabama</td>\n",
       "      <td>51024.0</td>\n",
       "      <td>57322</td>\n",
       "      <td>58013.0</td>\n",
       "      <td>0.68</td>\n",
       "      <td>15.6</td>\n",
       "      <td>82.0</td>\n",
       "      <td>3.7</td>\n",
       "      <td>4.02</td>\n",
       "      <td>yes</td>\n",
       "      <td>hs_diploma</td>\n",
       "      <td>21367.39</td>\n",
       "      <td>47412.0</td>\n",
       "      <td>none</td>\n",
       "    </tr>\n",
       "  </tbody>\n",
       "</table>\n",
       "</div>"
      ],
      "text/plain": [
       "             name    state   pop2000  pop2010   pop2017  pop_change  poverty  \\\n",
       "0  Autauga County  Alabama   43671.0    54571   55504.0        1.48     13.7   \n",
       "1  Baldwin County  Alabama  140415.0   182265  212628.0        9.19     11.8   \n",
       "2  Barbour County  Alabama   29038.0    27457   25270.0       -6.22     27.2   \n",
       "3     Bibb County  Alabama   20826.0    22915   22668.0        0.73     15.2   \n",
       "4   Blount County  Alabama   51024.0    57322   58013.0        0.68     15.6   \n",
       "\n",
       "   homeownership  multi_unit  unemployment_rate metro    median_edu  \\\n",
       "0           77.5         7.2               3.86   yes  some_college   \n",
       "1           76.7        22.6               3.99   yes  some_college   \n",
       "2           68.0        11.1               5.90    no    hs_diploma   \n",
       "3           82.9         6.6               4.39   yes    hs_diploma   \n",
       "4           82.0         3.7               4.02   yes    hs_diploma   \n",
       "\n",
       "   per_capita_income  median_hh_income smoking_ban  \n",
       "0           27841.70           55317.0        none  \n",
       "1           27779.85           52562.0        none  \n",
       "2           17891.73           33368.0     partial  \n",
       "3           20572.05           43404.0        none  \n",
       "4           21367.39           47412.0        none  "
      ]
     },
     "execution_count": 100,
     "metadata": {},
     "output_type": "execute_result"
    }
   ],
   "source": [
    "missing_values = [\"data unavailable\"]\n",
    "df = pd.read_csv('county.csv', \n",
    "                   na_values=missing_values)\n",
    "df.head()"
   ]
  },
  {
   "cell_type": "code",
   "execution_count": 101,
   "metadata": {},
   "outputs": [
    {
     "data": {
      "text/html": [
       "<div>\n",
       "<style scoped>\n",
       "    .dataframe tbody tr th:only-of-type {\n",
       "        vertical-align: middle;\n",
       "    }\n",
       "\n",
       "    .dataframe tbody tr th {\n",
       "        vertical-align: top;\n",
       "    }\n",
       "\n",
       "    .dataframe thead th {\n",
       "        text-align: right;\n",
       "    }\n",
       "</style>\n",
       "<table border=\"1\" class=\"dataframe\">\n",
       "  <thead>\n",
       "    <tr style=\"text-align: right;\">\n",
       "      <th></th>\n",
       "      <th>unemployment_rate</th>\n",
       "      <th>median_edu</th>\n",
       "    </tr>\n",
       "  </thead>\n",
       "  <tbody>\n",
       "    <tr>\n",
       "      <th>0</th>\n",
       "      <td>3.86</td>\n",
       "      <td>some_college</td>\n",
       "    </tr>\n",
       "    <tr>\n",
       "      <th>1</th>\n",
       "      <td>3.99</td>\n",
       "      <td>some_college</td>\n",
       "    </tr>\n",
       "    <tr>\n",
       "      <th>2</th>\n",
       "      <td>5.90</td>\n",
       "      <td>hs_diploma</td>\n",
       "    </tr>\n",
       "    <tr>\n",
       "      <th>3</th>\n",
       "      <td>4.39</td>\n",
       "      <td>hs_diploma</td>\n",
       "    </tr>\n",
       "    <tr>\n",
       "      <th>4</th>\n",
       "      <td>4.02</td>\n",
       "      <td>hs_diploma</td>\n",
       "    </tr>\n",
       "    <tr>\n",
       "      <th>...</th>\n",
       "      <td>...</td>\n",
       "      <td>...</td>\n",
       "    </tr>\n",
       "    <tr>\n",
       "      <th>3137</th>\n",
       "      <td>4.55</td>\n",
       "      <td>some_college</td>\n",
       "    </tr>\n",
       "    <tr>\n",
       "      <th>3138</th>\n",
       "      <td>2.99</td>\n",
       "      <td>bachelors</td>\n",
       "    </tr>\n",
       "    <tr>\n",
       "      <th>3139</th>\n",
       "      <td>4.50</td>\n",
       "      <td>some_college</td>\n",
       "    </tr>\n",
       "    <tr>\n",
       "      <th>3140</th>\n",
       "      <td>4.08</td>\n",
       "      <td>some_college</td>\n",
       "    </tr>\n",
       "    <tr>\n",
       "      <th>3141</th>\n",
       "      <td>3.98</td>\n",
       "      <td>some_college</td>\n",
       "    </tr>\n",
       "  </tbody>\n",
       "</table>\n",
       "<p>3139 rows × 2 columns</p>\n",
       "</div>"
      ],
      "text/plain": [
       "      unemployment_rate    median_edu\n",
       "0                  3.86  some_college\n",
       "1                  3.99  some_college\n",
       "2                  5.90    hs_diploma\n",
       "3                  4.39    hs_diploma\n",
       "4                  4.02    hs_diploma\n",
       "...                 ...           ...\n",
       "3137               4.55  some_college\n",
       "3138               2.99     bachelors\n",
       "3139               4.50  some_college\n",
       "3140               4.08  some_college\n",
       "3141               3.98  some_college\n",
       "\n",
       "[3139 rows x 2 columns]"
      ]
     },
     "execution_count": 101,
     "metadata": {},
     "output_type": "execute_result"
    }
   ],
   "source": [
    "df_unemploy_edu = df[['unemployment_rate', 'median_edu']]\n",
    "df_new = df_unemploy_edu.dropna()\n",
    "df_new"
   ]
  },
  {
   "cell_type": "markdown",
   "metadata": {},
   "source": [
    "## 2. Curating Information about the Population Distribution, Sample Distribution, and Sampling Distribution\n",
    "\n",
    "All of the questions that we are asking below in #2 has already been done in lab_05_individual. We will use all of this information in questions #3-#5. So we will just organize all of our needed information here in #2 first. Again, we will assume that this cleaned dataframe of 3139 U.S. counties is our **population**.\n",
    "\n",
    "<hr>\n",
    "\n",
    "### Tutorial/Review: Mean and Standard Deviation\n",
    "Whenever someone says \"mean\" or \"standard deviation\" in statistics, you should always be ready to ask: \"the 'mean' or 'standard deviation' *of what*?\". \n",
    "\n",
    "Depending on what set of numerical values that we're looking at (or would be theoretically looking at in the case of a sampling distribution), your 'mean' and 'standard deviation' will be different.\n",
    "<hr>\n",
    "\n",
    "### 2.1. [0.25 pt] Collect a random sample\n",
    "Collect a random sample of 50 counties from the population without replacement. Use a random state of 101.\n",
    "\n",
    "This is the same random sample of 50 counties that we collected in lab_05.\n",
    "\n"
   ]
  },
  {
   "cell_type": "code",
   "execution_count": 102,
   "metadata": {},
   "outputs": [
    {
     "data": {
      "text/html": [
       "<div>\n",
       "<style scoped>\n",
       "    .dataframe tbody tr th:only-of-type {\n",
       "        vertical-align: middle;\n",
       "    }\n",
       "\n",
       "    .dataframe tbody tr th {\n",
       "        vertical-align: top;\n",
       "    }\n",
       "\n",
       "    .dataframe thead th {\n",
       "        text-align: right;\n",
       "    }\n",
       "</style>\n",
       "<table border=\"1\" class=\"dataframe\">\n",
       "  <thead>\n",
       "    <tr style=\"text-align: right;\">\n",
       "      <th></th>\n",
       "      <th>unemployment_rate</th>\n",
       "      <th>median_edu</th>\n",
       "    </tr>\n",
       "  </thead>\n",
       "  <tbody>\n",
       "    <tr>\n",
       "      <th>1294</th>\n",
       "      <td>7.15</td>\n",
       "      <td>some_college</td>\n",
       "    </tr>\n",
       "    <tr>\n",
       "      <th>960</th>\n",
       "      <td>3.33</td>\n",
       "      <td>some_college</td>\n",
       "    </tr>\n",
       "    <tr>\n",
       "      <th>105</th>\n",
       "      <td>7.57</td>\n",
       "      <td>some_college</td>\n",
       "    </tr>\n",
       "    <tr>\n",
       "      <th>692</th>\n",
       "      <td>4.73</td>\n",
       "      <td>some_college</td>\n",
       "    </tr>\n",
       "    <tr>\n",
       "      <th>502</th>\n",
       "      <td>5.28</td>\n",
       "      <td>hs_diploma</td>\n",
       "    </tr>\n",
       "  </tbody>\n",
       "</table>\n",
       "</div>"
      ],
      "text/plain": [
       "      unemployment_rate    median_edu\n",
       "1294               7.15  some_college\n",
       "960                3.33  some_college\n",
       "105                7.57  some_college\n",
       "692                4.73  some_college\n",
       "502                5.28    hs_diploma"
      ]
     },
     "execution_count": 102,
     "metadata": {},
     "output_type": "execute_result"
    }
   ],
   "source": [
    "sample = df_new.sample(n=50, replace = False, random_state = 101)\n",
    "sample.head()"
   ]
  },
  {
   "cell_type": "markdown",
   "metadata": {},
   "source": [
    "## 2.2. Population Distribution of Unemployment Rates\n",
    "\n",
    "#### 2.2.1 [0.25 pt] Mean and Standard Deviation\n",
    "\n",
    "What is the mean and standard deviation unemployment rate of the population?"
   ]
  },
  {
   "cell_type": "code",
   "execution_count": 103,
   "metadata": {},
   "outputs": [
    {
     "data": {
      "text/plain": [
       "unemployment_rate    4.611443\n",
       "dtype: float64"
      ]
     },
     "execution_count": 103,
     "metadata": {},
     "output_type": "execute_result"
    }
   ],
   "source": [
    "popu_mean_unemploy = df_new.mean()\n",
    "popu_mean_unemploy"
   ]
  },
  {
   "cell_type": "code",
   "execution_count": 104,
   "metadata": {},
   "outputs": [
    {
     "data": {
      "text/plain": [
       "unemployment_rate    1.648761\n",
       "dtype: float64"
      ]
     },
     "execution_count": 104,
     "metadata": {},
     "output_type": "execute_result"
    }
   ],
   "source": [
    "popu_std_unemploy = df_new.std()\n",
    "popu_std_unemploy"
   ]
  },
  {
   "cell_type": "markdown",
   "metadata": {},
   "source": [
    "#### 2.2.2 [0.25 pt] Distribution Shape\n",
    "Plot a histogram for the population of unemployment rates."
   ]
  },
  {
   "cell_type": "code",
   "execution_count": 105,
   "metadata": {},
   "outputs": [
    {
     "data": {
      "image/png": "[encoded data removed]",
      "text/plain": [
       "<Figure size 432x288 with 1 Axes>"
      ]
     },
     "metadata": {},
     "output_type": "display_data"
    }
   ],
   "source": [
    "df_new['unemployment_rate'].hist(color='orange')\n",
    "plt.title('Population Distribution of unemployment rates')\n",
    "plt.xlabel('Unemployment_rate')\n",
    "plt.ylabel('Frequency')\n",
    "plt.show()"
   ]
  },
  {
   "cell_type": "markdown",
   "metadata": {},
   "source": [
    "### 2.3. Sample Distribution of Unemployment Rates\n",
    "\n",
    "#### 2.3.1 [0.25 pt] Mean and Standard Deviation\n",
    "\n",
    "What is the mean and standard deviation of this sample distribution of unemployment rates?"
   ]
  },
  {
   "cell_type": "code",
   "execution_count": 106,
   "metadata": {},
   "outputs": [
    {
     "data": {
      "text/plain": [
       "5.0280000000000005"
      ]
     },
     "execution_count": 106,
     "metadata": {},
     "output_type": "execute_result"
    }
   ],
   "source": [
    "sample_mean_unemploy = sample['unemployment_rate'].mean()\n",
    "sample_mean_unemploy"
   ]
  },
  {
   "cell_type": "code",
   "execution_count": 107,
   "metadata": {},
   "outputs": [
    {
     "data": {
      "text/plain": [
       "1.598841417261581"
      ]
     },
     "execution_count": 107,
     "metadata": {},
     "output_type": "execute_result"
    }
   ],
   "source": [
    "sample_std_unemploy = sample['unemployment_rate'].std()\n",
    "sample_std_unemploy"
   ]
  },
  {
   "cell_type": "markdown",
   "metadata": {},
   "source": [
    "#### 2.3.2. [0.25 pt] Distribution Shape\n",
    "\n",
    "Plot the distribution for the sample of unemployment rates."
   ]
  },
  {
   "cell_type": "code",
   "execution_count": 108,
   "metadata": {},
   "outputs": [
    {
     "data": {
      "image/png": "[encoded data removed]",
      "text/plain": [
       "<Figure size 432x288 with 1 Axes>"
      ]
     },
     "metadata": {},
     "output_type": "display_data"
    }
   ],
   "source": [
    "sample['unemployment_rate'].hist(color='orange')\n",
    "plt.title('Sample Distribution of unemployment rates')\n",
    "plt.xlabel('Unemployment_rate')\n",
    "plt.ylabel('Frequency')\n",
    "plt.show()"
   ]
  },
  {
   "cell_type": "markdown",
   "metadata": {},
   "source": [
    "### 2.4. Sampling Distribution of Sample Mean Unemployment Rates\n",
    "\n",
    "#### 2.4.1. [0.25 pt] Mean and Standard Deviation\n",
    "\n",
    "What is the mean and standard deviation of the sampling distribution of sample mean unemployment rates (where all of the samples are of size n=50)?"
   ]
  },
  {
   "cell_type": "code",
   "execution_count": 109,
   "metadata": {},
   "outputs": [],
   "source": [
    "all_sample_mean = 4.611443"
   ]
  },
  {
   "cell_type": "code",
   "execution_count": 137,
   "metadata": {},
   "outputs": [
    {
     "data": {
      "text/plain": [
       "0.23317001673118265"
      ]
     },
     "execution_count": 137,
     "metadata": {},
     "output_type": "execute_result"
    }
   ],
   "source": [
    "all_sample_std = 1.648761/(50**0.5)\n",
    "all_sample_std"
   ]
  },
  {
   "cell_type": "markdown",
   "metadata": {},
   "source": [
    "#### 2.4.2. [0.25 pt] Normality of the Sampling Distribution of Sample Means?\n",
    "\n",
    "Is this sampling distribution of sample mean unemployment rates normal? Why or why not?"
   ]
  },
  {
   "cell_type": "markdown",
   "metadata": {},
   "source": [
    "Yes.\n",
    "- The sample distribution and the population distribution tend to mirror each other.\n",
    "- The sample distribution above is NOT symmetric and unimodal, therefore, it is not a good assumption to say that it is normal.\n",
    "- However, the sample size 50>30"
   ]
  },
  {
   "cell_type": "markdown",
   "metadata": {},
   "source": [
    "## 3. Z-Scores\n",
    "\n",
    "<hr>\n",
    "\n",
    "### <u>Tutorial/Review</u>\n",
    "\n",
    "The **z-score** of a given observation = $\\frac{(\\mbox{observation}) - (\\mbox{mean of the distribution this observation was drawn from})}{(\\mbox{standard deviation of the distribution this observation was drawn from})}$.\n",
    "\n",
    "Thus, when someone says \"take the z-score of (some value)\" in statistics, you should always ask \"what distribution did this 'value' come from?\". Depending on the *distribution* that you're talking about (ie. population distribution vs. sampling distribution), the mean and standard deviation of this distribution will be different. And thus, the mean and standard deviation that you use in the z-score equation will be different.\n",
    "\n",
    "<hr>\n",
    "\n",
    "### 3.1. [1 pt] z-score of an Observation from the Population\n",
    "\n",
    "The unemployment rate of Champaign county in Illinois is 4.24. Calculate the z-score of Champaign county's unemployment rate.\n"
   ]
  },
  {
   "cell_type": "code",
   "execution_count": 144,
   "metadata": {},
   "outputs": [
    {
     "data": {
      "text/plain": [
       "unemployment_rate   -0.225286\n",
       "dtype: float64"
      ]
     },
     "execution_count": 144,
     "metadata": {},
     "output_type": "execute_result"
    }
   ],
   "source": [
    "(4.24 - 4.611443)/popu_std_unemploy"
   ]
  },
  {
   "cell_type": "markdown",
   "metadata": {},
   "source": [
    "### 3.2. [1 pt] z-score of an Observation from the Sampling Distribution of Sample Mean Unemployment Rates\n",
    "\n",
    "Calculate the z-score of the sample mean unemployment rate that we calculated in 2.3.1.\n"
   ]
  },
  {
   "cell_type": "code",
   "execution_count": 147,
   "metadata": {},
   "outputs": [
    {
     "data": {
      "text/plain": [
       "1.7864947039062953"
      ]
     },
     "execution_count": 147,
     "metadata": {},
     "output_type": "execute_result"
    }
   ],
   "source": [
    "(sample_mean_unemploy - 4.611443)/all_sample_std"
   ]
  },
  {
   "cell_type": "markdown",
   "metadata": {},
   "source": [
    "### 3.3. [1 pt] Z-score Probability\n",
    "\n",
    "Then calculate the probability a z-score is greater than or equal to this z-score that you calculated in 3.2."
   ]
  },
  {
   "cell_type": "code",
   "execution_count": 149,
   "metadata": {},
   "outputs": [
    {
     "data": {
      "text/plain": [
       "0.03700959698940065"
      ]
     },
     "execution_count": 149,
     "metadata": {},
     "output_type": "execute_result"
    }
   ],
   "source": [
    "p1 = 1 - norm.cdf(1.7864947039062953)\n",
    "p1"
   ]
  },
  {
   "cell_type": "code",
   "execution_count": null,
   "metadata": {},
   "outputs": [],
   "source": []
  },
  {
   "cell_type": "markdown",
   "metadata": {},
   "source": [
    "## 4. Hypothesis Testing on the Mean Unemployment Rate of all U.S. Counties\n",
    "\n",
    "Next, we will assume that we do not have access to the population of U.S. counties. Suppose that a local politician is making a claim that the unemployment rate of Champaign county, Illinois is representative of what we might expect to see of all U.S. counties on average. Specifically, they claim that the average unemployment rate of all U.S. counties is equal to 4.24. As Champaign county residents, we are skeptical of this claim and would like to test it, using the random sample of 50 U.S. counties that we collected in 2.1. We will use both a p-value and a confidence interval to evaluate these claims.\n",
    "\n",
    "**In #4, you should now assume that you *do not know* what the population mean unemployment rate is or the population standard deviation unemployment rate is.**\n",
    "\n",
    "### 4.1. [1 pt] Hypotheses\n",
    "\n",
    "First, set up your null and alternative hypotheses to evaluate these claims. You should use the appropriate notation to write these hypotheses. For any population parameter terms that you use, you should define what this parameter refers to."
   ]
  },
  {
   "cell_type": "markdown",
   "metadata": {},
   "source": [
    "$H_0: \\mu=4.24$.\n",
    "\n",
    "$H_A: \\mu\\neq 4.24$.\n",
    "\n",
    "Where $\\mu=$ the average unemployment rate of all U.S. counties."
   ]
  },
  {
   "cell_type": "markdown",
   "metadata": {},
   "source": [
    "### 4.2. [0.5 pt] Check conditions\n",
    "\n",
    "Check the appropriate conditions for conducting this hypothesis test."
   ]
  },
  {
   "cell_type": "markdown",
   "metadata": {},
   "source": [
    "1. <u>Condition: The observations are independent</u>.\n",
    "    - Because the sample is collected via random sampling and $n<10\\%$ of the population of ALL adults living in the U.S.\n",
    "2. <u>Condition: Either n>30 OR the population distribution is normal.</u>.\n",
    "    - It looks like the population distribution of unemployment rate is NOT normal.\n",
    "        - The sample distribution and the population distribution tend to mirror each other.\n",
    "        - The sample distribution above is NOT symmetric and unimodal, therefore, it is not a good assumption to say that it is normal.\n",
    "    - However, because our sample size $n=50>30$,this condition is met."
   ]
  },
  {
   "cell_type": "markdown",
   "metadata": {},
   "source": [
    "### 4.3. [3 pt] Calculate the p-value\n",
    "\n",
    "Calculate the p-value for this hypothesis test."
   ]
  },
  {
   "cell_type": "code",
   "execution_count": 114,
   "metadata": {},
   "outputs": [],
   "source": [
    "assumed=4.24\n",
    "std_error=sample_std_unemploy/np.sqrt(50)"
   ]
  },
  {
   "cell_type": "code",
   "execution_count": 115,
   "metadata": {},
   "outputs": [
    {
     "data": {
      "text/plain": [
       "3.485024453077688"
      ]
     },
     "execution_count": 115,
     "metadata": {},
     "output_type": "execute_result"
    }
   ],
   "source": [
    "test_statistic=(sample_mean_unemploy-assumed)/std_error\n",
    "test_statistic"
   ]
  },
  {
   "cell_type": "code",
   "execution_count": 116,
   "metadata": {},
   "outputs": [
    {
     "name": "stdout",
     "output_type": "stream",
     "text": [
      "p-value: 0.0004920920683941787\n"
     ]
    }
   ],
   "source": [
    "pvalue=2*(1-norm.cdf(np.abs(test_statistic), loc=0, scale=1))\n",
    "print('p-value:',pvalue)"
   ]
  },
  {
   "cell_type": "markdown",
   "metadata": {},
   "source": [
    "### 4.4. [1 pt] Conclusion with p-value\n",
    "Make a conclusion about your hypotheses using a significance level of $\\alpha=0.05$."
   ]
  },
  {
   "cell_type": "markdown",
   "metadata": {},
   "source": [
    "Since 0.0004920920683941787 < 0.05, we reject the null hypothesis."
   ]
  },
  {
   "cell_type": "markdown",
   "metadata": {},
   "source": [
    "### 4.5. [2 pt] Confidence Interval\n",
    "\n",
    "Next, create a 95% confidence interval for the average unemployment rate of all U.S. counties."
   ]
  },
  {
   "cell_type": "code",
   "execution_count": 117,
   "metadata": {},
   "outputs": [
    {
     "name": "stdout",
     "output_type": "stream",
     "text": [
      "Critical Value:  1.959963984540054\n"
     ]
    },
    {
     "data": {
      "text/plain": [
       "1.959963984540054"
      ]
     },
     "execution_count": 117,
     "metadata": {},
     "output_type": "execute_result"
    }
   ],
   "source": [
    "critical_value=norm.ppf(0.975)\n",
    "\n",
    "print('Critical Value: ',critical_value)\n",
    "critical_value"
   ]
  },
  {
   "cell_type": "code",
   "execution_count": 118,
   "metadata": {},
   "outputs": [
    {
     "name": "stdout",
     "output_type": "stream",
     "text": [
      "4.5848319130577035 5.471168086942297\n"
     ]
    }
   ],
   "source": [
    "lb=sample_mean_unemploy-critical_value*(sample_std_unemploy/np.sqrt(50))\n",
    "ub=sample_mean_unemploy+critical_value*(sample_std_unemploy/np.sqrt(50))\n",
    "\n",
    "print(lb, ub)"
   ]
  },
  {
   "cell_type": "markdown",
   "metadata": {},
   "source": [
    "### 4.6. [1 pt] Confidence Interval Conclusion\n",
    "\n",
    "Make a conclusion about your hypotheses using your 95% confidence interval."
   ]
  },
  {
   "cell_type": "markdown",
   "metadata": {},
   "source": [
    "Because the null value  𝜇0=4.24  is outside the confidence interval, we can reject the null hypothesis."
   ]
  },
  {
   "cell_type": "markdown",
   "metadata": {},
   "source": [
    "## 5. Hypothesis Testing on the Proportion of all U.S. Counties that Have Median Education Level of 'Some College'.\n",
    "\n",
    "In #5, we will similarly assume that we do not have access to the population of U.S. counties. Suppose that a local politician is further claiming that exactly half of all U.S. counties have a median education level of some college. We are skeptical of this claim as well and would like to test it with a new random sample which we will draw from the population of U.S. counties in 5.2 below. We will use both a p-value and a confidence interval to evaluate these claims.\n",
    "\n",
    "**In #5, you should now assume that you *do not know* what the population proportion of counties whose median education level is some college is.**\n",
    "\n",
    "### 5.1. [1 pt] Hypotheses\n",
    "\n",
    "First, set up your null and alternative hypotheses to evaluate these claims. You should use the appropriate notation to write these hypotheses. For any population parameter terms that you use, you should define what this parameter refers to."
   ]
  },
  {
   "cell_type": "markdown",
   "metadata": {},
   "source": [
    "$H_0: p=0.5$.\n",
    "\n",
    "$H_A: p\\neq 0.5$.\n",
    "\n",
    "Where $\\mu=$ the percentage of all U.S. counties have a median education level of some college."
   ]
  },
  {
   "cell_type": "markdown",
   "metadata": {},
   "source": [
    "### 5.2.  [1 pt]  Random Sample and Sample Proportion\n",
    "\n",
    "Collect a random sample of 40 county median education levels from the population, using a random state of 101. Then calculate the proportion of counties in this sample that have a median education level of some college.\n",
    "\n",
    "*Hint: This is the same sample that you collected in 4.2.1 of lab_05_individual.*"
   ]
  },
  {
   "cell_type": "code",
   "execution_count": 119,
   "metadata": {},
   "outputs": [],
   "source": [
    "edu_df = df_new['median_edu']"
   ]
  },
  {
   "cell_type": "code",
   "execution_count": 120,
   "metadata": {
    "scrolled": false
   },
   "outputs": [
    {
     "data": {
      "text/plain": [
       "1294    some_college\n",
       "960     some_college\n",
       "105     some_college\n",
       "692     some_college\n",
       "502       hs_diploma\n",
       "Name: median_edu, dtype: object"
      ]
     },
     "execution_count": 120,
     "metadata": {},
     "output_type": "execute_result"
    }
   ],
   "source": [
    "edu_sample = edu_df.sample(n=40, replace=False, random_state=101)\n",
    "edu_sample.head()"
   ]
  },
  {
   "cell_type": "code",
   "execution_count": 121,
   "metadata": {},
   "outputs": [
    {
     "data": {
      "text/plain": [
       "some_college    21\n",
       "hs_diploma      19\n",
       "Name: median_edu, dtype: int64"
      ]
     },
     "execution_count": 121,
     "metadata": {},
     "output_type": "execute_result"
    }
   ],
   "source": [
    "edu_sample.value_counts()"
   ]
  },
  {
   "cell_type": "code",
   "execution_count": 130,
   "metadata": {},
   "outputs": [],
   "source": [
    "p = 21/40\n",
    "std_edu = (21/40 * (1-21/40))**0.5"
   ]
  },
  {
   "cell_type": "code",
   "execution_count": 131,
   "metadata": {},
   "outputs": [
    {
     "data": {
      "text/plain": [
       "0.525"
      ]
     },
     "execution_count": 131,
     "metadata": {},
     "output_type": "execute_result"
    }
   ],
   "source": [
    "21/40"
   ]
  },
  {
   "cell_type": "markdown",
   "metadata": {},
   "source": [
    "### 5.3.  [1.5 pt]  Check Conditions \n",
    "\n",
    "Check the appropriate conditions for conducting this hypothesis test."
   ]
  },
  {
   "cell_type": "markdown",
   "metadata": {},
   "source": [
    "1. <u>Condition: The observations are independent</u>.\n",
    "    - Because the sample is collected via random sampling and $n<10\\%$ of the population of ALL adults living in the U.S.\n",
    "2. <u>Condition: Either n>30 OR the population distribution is normal.</u>.\n",
    "    - because our sample size $n=40>30$,this condition is met."
   ]
  },
  {
   "cell_type": "markdown",
   "metadata": {},
   "source": [
    "### 5.4.  [3 pt]  p-value"
   ]
  },
  {
   "cell_type": "markdown",
   "metadata": {},
   "source": [
    "Calculate the p-value for this hypothesis test."
   ]
  },
  {
   "cell_type": "code",
   "execution_count": 132,
   "metadata": {},
   "outputs": [],
   "source": [
    "assumed_per=0.5\n",
    "std__error=std_edu/np.sqrt(40)"
   ]
  },
  {
   "cell_type": "code",
   "execution_count": 133,
   "metadata": {},
   "outputs": [],
   "source": [
    "test_statistic=(p-assumed_per)/std__error"
   ]
  },
  {
   "cell_type": "code",
   "execution_count": 134,
   "metadata": {},
   "outputs": [
    {
     "name": "stdout",
     "output_type": "stream",
     "text": [
      "0.7515290794442089\n"
     ]
    }
   ],
   "source": [
    "pvalue=2*(1-norm.cdf(np.abs(test_statistic), loc=0, scale=1))\n",
    "print(pvalue)"
   ]
  },
  {
   "cell_type": "markdown",
   "metadata": {},
   "source": [
    "### 5.5.  [1 pt]  Conclusion with p-value\n",
    "\n",
    "Use your p-value and a significance level of $\\alpha=0.10$ to make a conclusion about your hypotheses."
   ]
  },
  {
   "cell_type": "markdown",
   "metadata": {},
   "source": [
    "Since 0.7515290794442089 > 0.10, we fail to reject the null hypothesis."
   ]
  },
  {
   "cell_type": "markdown",
   "metadata": {},
   "source": [
    "### 5.6.  [3 pt]  Confidence Interval\n",
    "\n",
    "Construct a 90% confidence interval for the proportion of all U.S. counties that have a median education level of some college."
   ]
  },
  {
   "cell_type": "code",
   "execution_count": 135,
   "metadata": {},
   "outputs": [
    {
     "name": "stdout",
     "output_type": "stream",
     "text": [
      "0.3951255511209919 0.6548744488790081\n"
     ]
    }
   ],
   "source": [
    "critical_value=norm.ppf(0.95)\n",
    "l_b= p-critical_value*(std__error)\n",
    "u_b= p+critical_value*(std__error)\n",
    "print(l_b, u_b)"
   ]
  },
  {
   "cell_type": "markdown",
   "metadata": {},
   "source": [
    "### 5.7.  [1 pt]  Confidence Interval Conclusion\n",
    "\n",
    "Make a conclusion about your hypotheses with your confidence interval."
   ]
  },
  {
   "cell_type": "markdown",
   "metadata": {},
   "source": [
    "Because the null value p0=0.5 is inside the confidence interval, we fail to reject the null hypothesis."
   ]
  },
  {
   "cell_type": "markdown",
   "metadata": {},
   "source": []
  }
 ],
 "metadata": {
  "kernelspec": {
   "display_name": "Python 3",
   "language": "python",
   "name": "python3"
  },
  "language_info": {
   "codemirror_mode": {
    "name": "ipython",
    "version": 3
   },
   "file_extension": ".py",
   "mimetype": "text/x-python",
   "name": "python",
   "nbconvert_exporter": "python",
   "pygments_lexer": "ipython3",
   "version": "3.8.8"
  }
 },
 "nbformat": 4,
 "nbformat_minor": 2
}
