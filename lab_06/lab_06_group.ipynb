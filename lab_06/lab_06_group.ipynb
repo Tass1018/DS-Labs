{
 "cells": [
  {
   "cell_type": "markdown",
   "metadata": {},
   "source": [
    "# STAT 207 Lab 6 - Group Part - [5 total points] - Solutions\n",
    "\n",
    "## Hypothesis Testing"
   ]
  },
  {
   "cell_type": "markdown",
   "metadata": {},
   "source": [
    "Due: Tuesday, October 5, 11:59pm CST\n",
    "\n",
    "## <u>Case Study</u>: Former STAT107 Student Analysis\n",
    "\n",
    "In this group assignment, you will be using the same random sample of 6 students from lab_05_group to conduct a hypothesis test on your population parameter of interest. Remember, your population of interest in this case study is former STAT107 students from the last four semesters.\n",
    "\n",
    "In this analysis you should come up with a value that you think your population parameter might be. In your hypothesis test, you will see if we have enough evidence to suggest that your population parameter is not equal to this value."
   ]
  },
  {
   "cell_type": "code",
   "execution_count": 1,
   "metadata": {},
   "outputs": [],
   "source": [
    "#Imports\n",
    "import pandas as pd\n",
    "import numpy as np\n",
    "import matplotlib.pyplot as plt\n",
    "import seaborn as sns; sns.set()\n",
    "import random\n",
    "from scipy.stats import norm\n",
    "from statistics import mean"
   ]
  },
  {
   "cell_type": "markdown",
   "metadata": {},
   "source": [
    "### 1. Hypotheses\n",
    "\n",
    "First, set up your null and alternative hypotheses to evaluate these claims. You should use the appropriate notation to write these hypotheses. For any population parameter terms that you use, you should define what this parameter refers to."
   ]
  },
  {
   "cell_type": "markdown",
   "metadata": {},
   "source": [
    "$H_0: \\mu=2$.\n",
    "\n",
    "$H_A: \\mu\\neq 2$.\n",
    "\n",
    "Where $\\mu=$ number of 100 courses students have taken."
   ]
  },
  {
   "cell_type": "markdown",
   "metadata": {},
   "source": [
    "### 2. Conditions for Hypothesis Testing\n",
    "\n",
    "Check the appropriate conditions for conducting this hypothesis test."
   ]
  },
  {
   "cell_type": "markdown",
   "metadata": {},
   "source": [
    "1. <u>Condition: The observations are independent</u>.\n",
    "    \n",
    "2. <u>Condition: Either n>30 OR the population distribution is normal.</u>.\n",
    "    \n",
    "    - The sample size doesn't meet the condition but the sample size is assinged to be 6 according to the instructions."
   ]
  },
  {
   "cell_type": "markdown",
   "metadata": {},
   "source": [
    "### 3. p-value\n",
    "\n",
    "Calculate the p-value for this hypothesis test."
   ]
  },
  {
   "cell_type": "code",
   "execution_count": 2,
   "metadata": {},
   "outputs": [],
   "source": [
    "assumed = 2\n",
    "mean = 3.333333\n",
    "std = 1.632993"
   ]
  },
  {
   "cell_type": "code",
   "execution_count": 3,
   "metadata": {},
   "outputs": [
    {
     "data": {
      "text/plain": [
       "1.999999698231605"
      ]
     },
     "execution_count": 3,
     "metadata": {},
     "output_type": "execute_result"
    }
   ],
   "source": [
    "std_error=std/np.sqrt(6)\n",
    "test_statistic=(mean-assumed)/std_error\n",
    "test_statistic"
   ]
  },
  {
   "cell_type": "code",
   "execution_count": 5,
   "metadata": {},
   "outputs": [
    {
     "name": "stdout",
     "output_type": "stream",
     "text": [
      "0.0455002964819029\n"
     ]
    }
   ],
   "source": [
    "pvalue=2*(1-norm.cdf(np.abs(test_statistic), loc=0, scale=1))\n",
    "print(pvalue)"
   ]
  },
  {
   "cell_type": "markdown",
   "metadata": {},
   "source": [
    "### 4. Conclusion\n",
    "\n",
    "Finally, use your p-value and a significance level of $\\alpha=0.05$ to make a conclusion about your hypotheses."
   ]
  },
  {
   "cell_type": "markdown",
   "metadata": {},
   "source": [
    "Since 0.0455002964819029 < 0.05, we can reject the null hypothesis."
   ]
  },
  {
   "cell_type": "markdown",
   "metadata": {},
   "source": []
  },
  {
   "cell_type": "markdown",
   "metadata": {},
   "source": [
    "### <u>Contribution Report</u>:"
   ]
  },
  {
   "cell_type": "markdown",
   "metadata": {},
   "source": []
  }
 ],
 "metadata": {
  "kernelspec": {
   "display_name": "Python 3",
   "language": "python",
   "name": "python3"
  },
  "language_info": {
   "codemirror_mode": {
    "name": "ipython",
    "version": 3
   },
   "file_extension": ".py",
   "mimetype": "text/x-python",
   "name": "python",
   "nbconvert_exporter": "python",
   "pygments_lexer": "ipython3",
   "version": "3.8.8"
  }
 },
 "nbformat": 4,
 "nbformat_minor": 2
}
