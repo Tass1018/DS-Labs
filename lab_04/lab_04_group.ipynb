{
 "cells": [
  {
   "cell_type": "markdown",
   "metadata": {},
   "source": [
    "# STAT 207 Lab 4 - Group Part - [5 total points]\n",
    "\n",
    "## Random Variables"
   ]
  },
  {
   "cell_type": "markdown",
   "metadata": {},
   "source": [
    "Due: Tuesday, September 21, 11:59pm CST\n",
    "\n",
    "### <u>Case Study</u>: Online Advertising Campaign\n",
    "\n",
    "#### Target Population Identification\n",
    "Suppose that you own an Etsy store and you are interested in advertising your products online. You have already conducted quite a lot of research, identifying a large population of people (along with their corresponding browser ids) that would be *most* likely to buy your product. We call this the **target population**. You decide to only advertise to these people in the target population with online ads. \n",
    "\n",
    "*(If you're interested to learn more about you would do this, STAT430-Unsupervised Learning can be a useful class).*\n",
    "\n",
    "#### Online Advertising Effectiveness\n",
    "From your prior research, you have determined that once a person in the target population has been exposed to an online ad for your product, there is a 25% chance that they will actually buy the product.\n",
    "\n",
    "#### Inventory Decisions\n",
    "Unfortunately, your product can only be made in 'batches' of size 5. So once, you have sold your fifth product, you would need to stop your advertising campaign to make another batch.\n",
    "\n",
    "### <u>Defining a Random Variable</u>\n",
    "To help us learn more about our advertising campaign, let's define a random variable:\n",
    "\n",
    "**X = the number of people in the target population that you have to advertise your product to until 5 of these people have purchased your product.**\n",
    "\n",
    "<hr>\n",
    "\n",
    "### 1. [2.5 pt] <u>Simulation Design</u>\n",
    "Design and execute a simulation that randomly generates a value for this random variable X that we defined above.\n",
    "\n",
    "*Hint: You might find the dataframe created below useful in your simulation. What is the probability of randomly sampling a person from this 'simulated_pop' that has purchased the product? What is the probabilty of randomly sampling a person from this 'simulated_pop' that has not purchased the product?*"
   ]
  },
  {
   "cell_type": "code",
   "execution_count": 3,
   "metadata": {
    "scrolled": true
   },
   "outputs": [
    {
     "data": {
      "text/html": [
       "<div>\n",
       "<style scoped>\n",
       "    .dataframe tbody tr th:only-of-type {\n",
       "        vertical-align: middle;\n",
       "    }\n",
       "\n",
       "    .dataframe tbody tr th {\n",
       "        vertical-align: top;\n",
       "    }\n",
       "\n",
       "    .dataframe thead th {\n",
       "        text-align: right;\n",
       "    }\n",
       "</style>\n",
       "<table border=\"1\" class=\"dataframe\">\n",
       "  <thead>\n",
       "    <tr style=\"text-align: right;\">\n",
       "      <th></th>\n",
       "      <th>purchased_product</th>\n",
       "    </tr>\n",
       "  </thead>\n",
       "  <tbody>\n",
       "    <tr>\n",
       "      <th>0</th>\n",
       "      <td>yes</td>\n",
       "    </tr>\n",
       "    <tr>\n",
       "      <th>1</th>\n",
       "      <td>no</td>\n",
       "    </tr>\n",
       "    <tr>\n",
       "      <th>2</th>\n",
       "      <td>no</td>\n",
       "    </tr>\n",
       "    <tr>\n",
       "      <th>3</th>\n",
       "      <td>no</td>\n",
       "    </tr>\n",
       "  </tbody>\n",
       "</table>\n",
       "</div>"
      ],
      "text/plain": [
       "  purchased_product\n",
       "0               yes\n",
       "1                no\n",
       "2                no\n",
       "3                no"
      ]
     },
     "execution_count": 3,
     "metadata": {},
     "output_type": "execute_result"
    }
   ],
   "source": [
    "import pandas as pd\n",
    "simulated_pop=pd.DataFrame({'purchased_product':['yes','no','no','no']})\n",
    "simulated_pop"
   ]
  },
  {
   "cell_type": "code",
   "execution_count": 7,
   "metadata": {},
   "outputs": [],
   "source": [
    "y = 0\n",
    "x = 0"
   ]
  },
  {
   "cell_type": "code",
   "execution_count": 13,
   "metadata": {},
   "outputs": [],
   "source": [
    "while y<5:\n",
    "    sample = simulated_pop.sample(1)['purchased_product'].item()\n",
    "    \n",
    "    if (sample == 'yes'):\n",
    "        y = y+1\n",
    "        \n",
    "    x = x+1\n",
    "    "
   ]
  },
  {
   "cell_type": "code",
   "execution_count": 14,
   "metadata": {},
   "outputs": [
    {
     "name": "stdout",
     "output_type": "stream",
     "text": [
      "14\n"
     ]
    }
   ],
   "source": [
    "print(x)"
   ]
  },
  {
   "cell_type": "code",
   "execution_count": null,
   "metadata": {},
   "outputs": [],
   "source": []
  },
  {
   "cell_type": "code",
   "execution_count": null,
   "metadata": {},
   "outputs": [],
   "source": []
  },
  {
   "cell_type": "markdown",
   "metadata": {},
   "source": [
    "### 2. [2 pt] <u>Multiple Random Variable Values Generation</u>\n",
    "\n",
    "Now, use this simulation that you created above to randomly generate **100** values for the random variable X. Put these 100 random variable values that you generated in a dataframe."
   ]
  },
  {
   "cell_type": "code",
   "execution_count": 30,
   "metadata": {},
   "outputs": [],
   "source": [
    "arr=[]\n",
    "for i in range(100):\n",
    "    x = 0\n",
    "    y = 0\n",
    "    while y<5:\n",
    "        \n",
    "        sample = simulated_pop.sample(1)['purchased_product'].item()\n",
    "    \n",
    "        if (sample == 'yes'):\n",
    "            y = y+1\n",
    "        x = x+1\n",
    "    arr.append(x)\n",
    "    \n",
    "df  = pd.DataFrame(arr)\n",
    "    "
   ]
  },
  {
   "cell_type": "code",
   "execution_count": 31,
   "metadata": {},
   "outputs": [
    {
     "data": {
      "text/html": [
       "<div>\n",
       "<style scoped>\n",
       "    .dataframe tbody tr th:only-of-type {\n",
       "        vertical-align: middle;\n",
       "    }\n",
       "\n",
       "    .dataframe tbody tr th {\n",
       "        vertical-align: top;\n",
       "    }\n",
       "\n",
       "    .dataframe thead th {\n",
       "        text-align: right;\n",
       "    }\n",
       "</style>\n",
       "<table border=\"1\" class=\"dataframe\">\n",
       "  <thead>\n",
       "    <tr style=\"text-align: right;\">\n",
       "      <th></th>\n",
       "      <th>0</th>\n",
       "    </tr>\n",
       "  </thead>\n",
       "  <tbody>\n",
       "    <tr>\n",
       "      <th>0</th>\n",
       "      <td>18</td>\n",
       "    </tr>\n",
       "    <tr>\n",
       "      <th>1</th>\n",
       "      <td>12</td>\n",
       "    </tr>\n",
       "    <tr>\n",
       "      <th>2</th>\n",
       "      <td>34</td>\n",
       "    </tr>\n",
       "    <tr>\n",
       "      <th>3</th>\n",
       "      <td>31</td>\n",
       "    </tr>\n",
       "    <tr>\n",
       "      <th>4</th>\n",
       "      <td>23</td>\n",
       "    </tr>\n",
       "    <tr>\n",
       "      <th>...</th>\n",
       "      <td>...</td>\n",
       "    </tr>\n",
       "    <tr>\n",
       "      <th>95</th>\n",
       "      <td>13</td>\n",
       "    </tr>\n",
       "    <tr>\n",
       "      <th>96</th>\n",
       "      <td>26</td>\n",
       "    </tr>\n",
       "    <tr>\n",
       "      <th>97</th>\n",
       "      <td>17</td>\n",
       "    </tr>\n",
       "    <tr>\n",
       "      <th>98</th>\n",
       "      <td>16</td>\n",
       "    </tr>\n",
       "    <tr>\n",
       "      <th>99</th>\n",
       "      <td>21</td>\n",
       "    </tr>\n",
       "  </tbody>\n",
       "</table>\n",
       "<p>100 rows × 1 columns</p>\n",
       "</div>"
      ],
      "text/plain": [
       "     0\n",
       "0   18\n",
       "1   12\n",
       "2   34\n",
       "3   31\n",
       "4   23\n",
       "..  ..\n",
       "95  13\n",
       "96  26\n",
       "97  17\n",
       "98  16\n",
       "99  21\n",
       "\n",
       "[100 rows x 1 columns]"
      ]
     },
     "execution_count": 31,
     "metadata": {},
     "output_type": "execute_result"
    }
   ],
   "source": [
    "df"
   ]
  },
  {
   "cell_type": "code",
   "execution_count": null,
   "metadata": {},
   "outputs": [],
   "source": []
  },
  {
   "cell_type": "code",
   "execution_count": null,
   "metadata": {},
   "outputs": [],
   "source": []
  },
  {
   "cell_type": "markdown",
   "metadata": {},
   "source": [
    "### 3. [0.5 pt] <u>Average Number of Ads</u> \n",
    "\n",
    "Use these 100 randomly genereated values from #2 to approximate the **average** number of online ads you need to show to your target population in order to sell the five products in your inventory."
   ]
  },
  {
   "cell_type": "code",
   "execution_count": 32,
   "metadata": {},
   "outputs": [
    {
     "data": {
      "text/plain": [
       "0    20.3\n",
       "dtype: float64"
      ]
     },
     "execution_count": 32,
     "metadata": {},
     "output_type": "execute_result"
    }
   ],
   "source": [
    "mean = df.mean()\n",
    "mean"
   ]
  },
  {
   "cell_type": "code",
   "execution_count": null,
   "metadata": {},
   "outputs": [],
   "source": []
  },
  {
   "cell_type": "markdown",
   "metadata": {},
   "source": [
    "### 4. <u>Contribution Report</u>"
   ]
  },
  {
   "cell_type": "code",
   "execution_count": null,
   "metadata": {},
   "outputs": [],
   "source": []
  }
 ],
 "metadata": {
  "kernelspec": {
   "display_name": "Python 3",
   "language": "python",
   "name": "python3"
  },
  "language_info": {
   "codemirror_mode": {
    "name": "ipython",
    "version": 3
   },
   "file_extension": ".py",
   "mimetype": "text/x-python",
   "name": "python",
   "nbconvert_exporter": "python",
   "pygments_lexer": "ipython3",
   "version": "3.8.8"
  }
 },
 "nbformat": 4,
 "nbformat_minor": 2
}
